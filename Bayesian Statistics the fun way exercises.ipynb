{
 "cells": [
  {
   "cell_type": "code",
   "execution_count": 44,
   "metadata": {
    "ExecuteTime": {
     "end_time": "2021-03-03T18:22:58.825593Z",
     "start_time": "2021-03-03T18:22:57.866607Z"
    }
   },
   "outputs": [],
   "source": [
    "import itertools\n",
    "import numpy as np\n",
    "from scipy.stats import beta, binom"
   ]
  },
  {
   "cell_type": "code",
   "execution_count": 2,
   "metadata": {
    "ExecuteTime": {
     "end_time": "2021-03-03T18:22:58.832592Z",
     "start_time": "2021-03-03T18:22:58.826592Z"
    }
   },
   "outputs": [],
   "source": [
    "def choose(n, k):\n",
    "    \"\"\"\n",
    "    A fast way to calculate binomial coefficients by Andrew Dalke (contrib).\n",
    "    \"\"\"\n",
    "    if 0 <= k <= n:\n",
    "        ntok = 1\n",
    "        ktok = 1\n",
    "        for t in range(1, min(k, n - k) + 1):\n",
    "            ntok *= n\n",
    "            ktok *= t\n",
    "            n -= 1\n",
    "        return ntok // ktok\n",
    "    else:\n",
    "        return 0"
   ]
  },
  {
   "cell_type": "markdown",
   "metadata": {},
   "source": [
    "# Chapter 1: "
   ]
  },
  {
   "cell_type": "markdown",
   "metadata": {},
   "source": [
    "# Chapter 2: \n",
    "\n",
    "## Q1.\n",
    "What is the probability of rolling two six-sided dice and getting a \n",
    "value greater than 7?"
   ]
  },
  {
   "cell_type": "code",
   "execution_count": 3,
   "metadata": {
    "ExecuteTime": {
     "end_time": "2021-03-03T18:22:58.849592Z",
     "start_time": "2021-03-03T18:22:58.835592Z"
    }
   },
   "outputs": [
    {
     "data": {
      "text/plain": [
       "[(1, 1),\n",
       " (1, 2),\n",
       " (1, 3),\n",
       " (1, 4),\n",
       " (1, 5),\n",
       " (1, 6),\n",
       " (2, 1),\n",
       " (2, 2),\n",
       " (2, 3),\n",
       " (2, 4),\n",
       " (2, 5),\n",
       " (2, 6),\n",
       " (3, 1),\n",
       " (3, 2),\n",
       " (3, 3),\n",
       " (3, 4),\n",
       " (3, 5),\n",
       " (3, 6),\n",
       " (4, 1),\n",
       " (4, 2),\n",
       " (4, 3),\n",
       " (4, 4),\n",
       " (4, 5),\n",
       " (4, 6),\n",
       " (5, 1),\n",
       " (5, 2),\n",
       " (5, 3),\n",
       " (5, 4),\n",
       " (5, 5),\n",
       " (5, 6),\n",
       " (6, 1),\n",
       " (6, 2),\n",
       " (6, 3),\n",
       " (6, 4),\n",
       " (6, 5),\n",
       " (6, 6)]"
      ]
     },
     "execution_count": 3,
     "metadata": {},
     "output_type": "execute_result"
    }
   ],
   "source": [
    "combinations = list(itertools.product(range(1,7),range(1,7))) #itertools.product returns the cartesian product of two iterables\n",
    "combinations"
   ]
  },
  {
   "cell_type": "code",
   "execution_count": 4,
   "metadata": {
    "ExecuteTime": {
     "end_time": "2021-03-03T18:22:58.858591Z",
     "start_time": "2021-03-03T18:22:58.850592Z"
    }
   },
   "outputs": [],
   "source": [
    "greater_7 = [sum(i) for i in combinations if sum(i) > 7]"
   ]
  },
  {
   "cell_type": "code",
   "execution_count": 5,
   "metadata": {
    "ExecuteTime": {
     "end_time": "2021-03-03T18:22:58.868592Z",
     "start_time": "2021-03-03T18:22:58.859592Z"
    }
   },
   "outputs": [
    {
     "name": "stdout",
     "output_type": "stream",
     "text": [
      "Number of pairs with values greater than 7:  15\n",
      "Total number of pairs: 36\n",
      "P(>7)=0.42\n"
     ]
    }
   ],
   "source": [
    "print(f\"Number of pairs with values greater than 7:  {len(greater_7)}\")\n",
    "print(f\"Total number of pairs: {len(combinations)}\")\n",
    "print(f\"P(>7)={round(len(greater_7)/len(combinations),2)}\")"
   ]
  },
  {
   "cell_type": "markdown",
   "metadata": {},
   "source": [
    "## Q2.\n",
    "What is the probability of rolling three six-sided dice and getting a \n",
    "value greater than 7?"
   ]
  },
  {
   "cell_type": "code",
   "execution_count": 6,
   "metadata": {
    "ExecuteTime": {
     "end_time": "2021-03-03T18:22:58.878591Z",
     "start_time": "2021-03-03T18:22:58.869592Z"
    }
   },
   "outputs": [],
   "source": [
    "combinations_3dice = list(itertools.product(range(1,7),range(1,7),range(1,7)))\n",
    "greater_7_3dice = [sum(i) for i in combinations_3dice if sum(i) > 7]"
   ]
  },
  {
   "cell_type": "code",
   "execution_count": 7,
   "metadata": {
    "ExecuteTime": {
     "end_time": "2021-03-03T18:22:58.886592Z",
     "start_time": "2021-03-03T18:22:58.879592Z"
    }
   },
   "outputs": [
    {
     "name": "stdout",
     "output_type": "stream",
     "text": [
      "Number of pairs with values greater than 7:  181\n",
      "Total number of pairs: 216\n",
      "P(>7)=0.84\n"
     ]
    }
   ],
   "source": [
    "print(f\"Number of pairs with values greater than 7:  {len(greater_7_3dice)}\")\n",
    "print(f\"Total number of pairs: {len(combinations_3dice)}\")\n",
    "print(f\"P(>7)={round(len(greater_7_3dice)/len(combinations_3dice),2)}\")"
   ]
  },
  {
   "cell_type": "markdown",
   "metadata": {},
   "source": [
    "## Q3.\n",
    "The Yankees are playing the Red Sox. You’re a diehard Sox fan and \n",
    "bet your friend they’ll win the game. You’ll pay your friend 30 dollars if the Sox \n",
    "lose and your friend will have to pay you only 5 dollars if the Sox win. What is \n",
    "the probability you have intuitively assigned to the belief that the Red Sox \n",
    "will win?"
   ]
  },
  {
   "cell_type": "code",
   "execution_count": 8,
   "metadata": {
    "ExecuteTime": {
     "end_time": "2021-03-03T18:22:58.897591Z",
     "start_time": "2021-03-03T18:22:58.888593Z"
    }
   },
   "outputs": [
    {
     "data": {
      "text/plain": [
       "0.86"
      ]
     },
     "execution_count": 8,
     "metadata": {},
     "output_type": "execute_result"
    }
   ],
   "source": [
    "odds_RSwin = 30/5\n",
    "prob_RSwin = odds_RSwin/(1+odds_RSwin)\n",
    "round(prob_RSwin,2)"
   ]
  },
  {
   "cell_type": "markdown",
   "metadata": {},
   "source": [
    "# Chapter 3: The Logic of Uncertainty\n",
    "## Q1. \n",
    "What is the probability of rolling a 20 three times in a row on a \n",
    "20-sided die?"
   ]
  },
  {
   "cell_type": "code",
   "execution_count": 9,
   "metadata": {
    "ExecuteTime": {
     "end_time": "2021-03-03T18:22:58.904592Z",
     "start_time": "2021-03-03T18:22:58.899592Z"
    }
   },
   "outputs": [
    {
     "data": {
      "text/plain": [
       "0.00012500000000000003"
      ]
     },
     "execution_count": 9,
     "metadata": {},
     "output_type": "execute_result"
    }
   ],
   "source": [
    "(1/20)**3 # or (1/20)*(1/20)*(1/20)"
   ]
  },
  {
   "cell_type": "markdown",
   "metadata": {},
   "source": [
    "## Q2. \n",
    "The weather report says there’s a 10 percent chance of rain tomorrow, \n",
    "and you forget your umbrella half the time you go out. What is the probability that you’ll be caught in the rain without an umbrella tomorrow?"
   ]
  },
  {
   "cell_type": "code",
   "execution_count": 10,
   "metadata": {
    "ExecuteTime": {
     "end_time": "2021-03-03T18:22:58.914591Z",
     "start_time": "2021-03-03T18:22:58.905592Z"
    }
   },
   "outputs": [
    {
     "data": {
      "text/plain": [
       "0.05"
      ]
     },
     "execution_count": 10,
     "metadata": {},
     "output_type": "execute_result"
    }
   ],
   "source": [
    "p_rain = 0.1\n",
    "p_umbrella = 0.5\n",
    "p_rain*p_umbrella"
   ]
  },
  {
   "cell_type": "markdown",
   "metadata": {},
   "source": [
    "## Q3. \n",
    "Raw eggs have a 1/20,000 probability of having salmonella. If you eat \n",
    "two raw eggs, what is the probability you ate a raw egg with salmonella?"
   ]
  },
  {
   "cell_type": "code",
   "execution_count": 11,
   "metadata": {
    "ExecuteTime": {
     "end_time": "2021-03-03T18:22:58.924592Z",
     "start_time": "2021-03-03T18:22:58.915592Z"
    }
   },
   "outputs": [
    {
     "data": {
      "text/plain": [
       "0.0001"
      ]
     },
     "execution_count": 11,
     "metadata": {},
     "output_type": "execute_result"
    }
   ],
   "source": [
    "1/20000 + 1/20000 #given that they are independent"
   ]
  },
  {
   "cell_type": "code",
   "execution_count": 12,
   "metadata": {
    "ExecuteTime": {
     "end_time": "2021-03-03T18:22:58.931592Z",
     "start_time": "2021-03-03T18:22:58.925592Z"
    }
   },
   "outputs": [
    {
     "data": {
      "text/plain": [
       "0.0001"
      ]
     },
     "execution_count": 12,
     "metadata": {},
     "output_type": "execute_result"
    }
   ],
   "source": [
    "round(1/20000 + 1/20000 - 1/20000 * (1/20000),5) #more formally correct"
   ]
  },
  {
   "cell_type": "markdown",
   "metadata": {},
   "source": [
    "## Q4. \n",
    "What is the probability of either flipping two heads in two coin tosses \n",
    "or rolling three 6s in three six-sided dice rolls?"
   ]
  },
  {
   "cell_type": "code",
   "execution_count": 13,
   "metadata": {
    "ExecuteTime": {
     "end_time": "2021-03-03T18:22:58.941592Z",
     "start_time": "2021-03-03T18:22:58.932593Z"
    }
   },
   "outputs": [
    {
     "data": {
      "text/plain": [
       "0.25"
      ]
     },
     "execution_count": 13,
     "metadata": {},
     "output_type": "execute_result"
    }
   ],
   "source": [
    "p_two_heads = 0.5 * 0.5\n",
    "p_three_six = (1/6)*(1/6)*(1/6)\n",
    "p_either_event = p_two_heads + p_three_six\n",
    "round(p_either_event,2)"
   ]
  },
  {
   "cell_type": "markdown",
   "metadata": {},
   "source": [
    "# Chapter 4: Creating a Binomial Probability Distribution\n",
    "## Q1. \n",
    "What are the parameters of the binomial distribution for the probability of rolling either a 1 or a 20 on a 20-sided die, if we roll the die \n",
    "12 times?"
   ]
  },
  {
   "cell_type": "code",
   "execution_count": 14,
   "metadata": {
    "ExecuteTime": {
     "end_time": "2021-03-03T18:22:58.949592Z",
     "start_time": "2021-03-03T18:22:58.942593Z"
    }
   },
   "outputs": [],
   "source": [
    "p = 1/20 + 1/20 #prob of either 1 or 20\n",
    "k = 1 #looking for event to occur once\n",
    "n = 12 # 12 trials"
   ]
  },
  {
   "cell_type": "markdown",
   "metadata": {},
   "source": [
    "## Q2. \n",
    "There are four aces in a deck of 52 cards. If you pull a card, return \n",
    "the card, then reshuffle and pull a card again, how many ways can you pull \n",
    "just one ace in five pulls?"
   ]
  },
  {
   "cell_type": "code",
   "execution_count": 15,
   "metadata": {
    "ExecuteTime": {
     "end_time": "2021-03-03T18:22:58.958592Z",
     "start_time": "2021-03-03T18:22:58.950592Z"
    }
   },
   "outputs": [
    {
     "data": {
      "text/plain": [
       "5"
      ]
     },
     "execution_count": 15,
     "metadata": {},
     "output_type": "execute_result"
    }
   ],
   "source": [
    "choose(5,1)"
   ]
  },
  {
   "cell_type": "markdown",
   "metadata": {},
   "source": [
    "## Q3. \n",
    "For the example in question 2, what is the probability of pulling five \n",
    "aces in 10 pulls (remember the card is shuffled back in the deck when it is \n",
    "pulled)?"
   ]
  },
  {
   "cell_type": "code",
   "execution_count": 16,
   "metadata": {
    "ExecuteTime": {
     "end_time": "2021-03-03T18:22:58.975591Z",
     "start_time": "2021-03-03T18:22:58.959593Z"
    }
   },
   "outputs": [
    {
     "data": {
      "text/plain": [
       "0.0004548552879040868"
      ]
     },
     "execution_count": 16,
     "metadata": {},
     "output_type": "execute_result"
    }
   ],
   "source": [
    "k = 5\n",
    "n = 10\n",
    "p = 4/52\n",
    "binom.pmf(k,n,p)"
   ]
  },
  {
   "cell_type": "markdown",
   "metadata": {},
   "source": [
    "## Q4. \n",
    "When you’re searching for a new job, it’s always helpful to have more \n",
    "than one offer on the table so you can use it in negotiations. If you have a \n",
    "1/5 probability of receiving a job offer when you interview, and you interview with seven companies in a month, what is the probability you’ll have \n",
    "at least two competing offers by the end of that month?"
   ]
  },
  {
   "cell_type": "code",
   "execution_count": 17,
   "metadata": {
    "ExecuteTime": {
     "end_time": "2021-03-03T18:22:58.984592Z",
     "start_time": "2021-03-03T18:22:58.976592Z"
    }
   },
   "outputs": [
    {
     "data": {
      "text/plain": [
       "0.42328319999999986"
      ]
     },
     "execution_count": 17,
     "metadata": {},
     "output_type": "execute_result"
    }
   ],
   "source": [
    "p_offer = 1/5\n",
    "n = 7\n",
    "p_two_or_more_7 = binom.cdf(7,n,p_offer)-binom.cdf(1,n,p_offer) #prob from 2 offers to 7 offers\n",
    "p_two_or_more_7"
   ]
  },
  {
   "cell_type": "markdown",
   "metadata": {},
   "source": [
    "## Q5. \n",
    "You get a bunch of recruiter emails and find out you have 25 interviews lined up in the next month. Unfortunately, you know this will leave \n",
    "you exhausted, and the probability of getting an offer will drop to 1/10 \n",
    "if you’re tired. You really don’t want to go on this many interviews unless \n",
    "you are at least twice as likely to get at least two competing offers. Are you \n",
    "more likely to get at least two offers if you go for 25 interviews, or stick to \n",
    "just 7?"
   ]
  },
  {
   "cell_type": "code",
   "execution_count": 18,
   "metadata": {
    "ExecuteTime": {
     "end_time": "2021-03-03T18:22:58.993594Z",
     "start_time": "2021-03-03T18:22:58.985592Z"
    }
   },
   "outputs": [
    {
     "data": {
      "text/plain": [
       "0.7265327819658538"
      ]
     },
     "execution_count": 18,
     "metadata": {},
     "output_type": "execute_result"
    }
   ],
   "source": [
    "n_interview = 25\n",
    "p_offer_tired = 1/10\n",
    "p_two_or_more_25 = binom.cdf(7,n_interview,p_offer_tired)-binom.cdf(1,n_interview,p_offer_tired)\n",
    "p_two_or_more_25"
   ]
  },
  {
   "cell_type": "code",
   "execution_count": 19,
   "metadata": {
    "ExecuteTime": {
     "end_time": "2021-03-03T18:22:59.002592Z",
     "start_time": "2021-03-03T18:22:58.994592Z"
    }
   },
   "outputs": [
    {
     "data": {
      "text/plain": [
       "1.7164224376631392"
      ]
     },
     "execution_count": 19,
     "metadata": {},
     "output_type": "execute_result"
    }
   ],
   "source": [
    "p_two_or_more_25/p_two_or_more_7"
   ]
  },
  {
   "cell_type": "markdown",
   "metadata": {},
   "source": [
    "Only 1.7 times more likely to get an offer not twice."
   ]
  },
  {
   "cell_type": "markdown",
   "metadata": {},
   "source": [
    "# Chapter 5: The Beta Distribution\n",
    "## Q1. \n",
    "You want to use the beta distribution to determine whether or not a\n",
    "coin you have is a fair coin—meaning that the coin gives you heads and\n",
    "tails equally. You flip the coin 10 times and get 4 heads and 6 tails. Using\n",
    "the beta distribution, what is the probability that the coin will land on\n",
    "heads more than 60 percent of the time?"
   ]
  },
  {
   "cell_type": "code",
   "execution_count": 20,
   "metadata": {
    "ExecuteTime": {
     "end_time": "2021-03-03T18:22:59.013592Z",
     "start_time": "2021-03-03T18:22:59.003592Z"
    }
   },
   "outputs": [
    {
     "data": {
      "text/plain": [
       "0.09935257600000003"
      ]
     },
     "execution_count": 20,
     "metadata": {},
     "output_type": "execute_result"
    }
   ],
   "source": [
    "betacdf = beta(4,6).cdf\n",
    "\n",
    "betacdf(1.0) - betacdf(0.6)"
   ]
  },
  {
   "cell_type": "markdown",
   "metadata": {},
   "source": [
    "## Q2. \n",
    "You flip the coin 10 more times and now have 9 heads and 11 tails\n",
    "total. What is the probability that the coin is fair, using our definition of\n",
    "fair, give or take 5 percent?"
   ]
  },
  {
   "cell_type": "code",
   "execution_count": 21,
   "metadata": {
    "ExecuteTime": {
     "end_time": "2021-03-03T18:22:59.022592Z",
     "start_time": "2021-03-03T18:22:59.014592Z"
    }
   },
   "outputs": [
    {
     "data": {
      "text/plain": [
       "0.3098800156513042"
      ]
     },
     "execution_count": 21,
     "metadata": {},
     "output_type": "execute_result"
    }
   ],
   "source": [
    "betacdf = beta(9,11).cdf\n",
    "\n",
    "betacdf(0.55) - betacdf(0.45)"
   ]
  },
  {
   "cell_type": "markdown",
   "metadata": {},
   "source": [
    "## Q3. \n",
    "Data is the best way to become more confident in your assertions. You\n",
    "flip the coin 200 more times and end up with 109 heads and 111 tails. Now\n",
    "what is the probability that the coin is fair, give or take 5 percent?"
   ]
  },
  {
   "cell_type": "code",
   "execution_count": 22,
   "metadata": {
    "ExecuteTime": {
     "end_time": "2021-03-03T18:22:59.034592Z",
     "start_time": "2021-03-03T18:22:59.023592Z"
    }
   },
   "outputs": [
    {
     "data": {
      "text/plain": [
       "0.8589371426532354"
      ]
     },
     "execution_count": 22,
     "metadata": {},
     "output_type": "execute_result"
    }
   ],
   "source": [
    "betacdf = beta(109,111).cdf\n",
    "\n",
    "betacdf(0.55) - betacdf(0.45)"
   ]
  },
  {
   "cell_type": "markdown",
   "metadata": {},
   "source": [
    "# Chapter 6: Conditional Probability\n",
    "## Q1. \n",
    "What piece of information would we need in order to use Bayes’\n",
    "theorem to determine the probability that someone in 2010 who had GBS\n",
    "also had the flu vaccine that year?"
   ]
  },
  {
   "attachments": {
    "image.png": {
     "image/png": "[encoded data removed]"
    }
   },
   "cell_type": "markdown",
   "metadata": {},
   "source": [
    "![image.png](attachment:image.png)"
   ]
  },
  {
   "cell_type": "markdown",
   "metadata": {},
   "source": [
    "## Q2. \n",
    "What is the probability that a random person picked from the\n",
    "population is female and is not color blind?"
   ]
  },
  {
   "cell_type": "code",
   "execution_count": 23,
   "metadata": {
    "ExecuteTime": {
     "end_time": "2021-03-03T18:22:59.042592Z",
     "start_time": "2021-03-03T18:22:59.035592Z"
    }
   },
   "outputs": [
    {
     "data": {
      "text/plain": [
       "0.4975"
      ]
     },
     "execution_count": 23,
     "metadata": {},
     "output_type": "execute_result"
    }
   ],
   "source": [
    "p_female = 0.5\n",
    "p_colorblind_given_f = 0.005\n",
    "p_notcolorblind_female = p_female*(1-p_colorblind_given_f)\n",
    "p_notcolorblind_female"
   ]
  },
  {
   "cell_type": "markdown",
   "metadata": {},
   "source": [
    "## Q3. \n",
    "What is the probability that a male who received the flu vaccine in\n",
    "2010 is either color blind or has GBS?"
   ]
  },
  {
   "cell_type": "code",
   "execution_count": 24,
   "metadata": {
    "ExecuteTime": {
     "end_time": "2021-03-03T18:22:59.051592Z",
     "start_time": "2021-03-03T18:22:59.043592Z"
    }
   },
   "outputs": [
    {
     "data": {
      "text/plain": [
       "0.0400288"
      ]
     },
     "execution_count": 24,
     "metadata": {},
     "output_type": "execute_result"
    }
   ],
   "source": [
    "p_GBS_given_fvac = 3/100000\n",
    "p_colorblind_given_m = 0.08\n",
    "p_male = 0.5\n",
    "p_male_and_colorblind = p_colorblind_given_m * p_male #gives 0.04 not 0.004 as described in book solutions.\n",
    "\n",
    "p_male_and_colorblind + p_GBS_given_fvac - p_male_and_colorblind * p_GBS_given_fvac"
   ]
  },
  {
   "cell_type": "markdown",
   "metadata": {},
   "source": [
    "# Chapter 7: Bayes' Theorem with LEGO\n",
    "\n",
    "## Q1.\n",
    "Kansas City, despite its name, sits on the border of two US states: \n",
    "Missouri and Kansas. The Kansas City metropolitan area consists of \n",
    "15 counties, 9 in Missouri and 6 in Kansas. The entire state of Kansas has \n",
    "105 counties and Missouri has 114. Use Bayes’ theorem to calculate the \n",
    "probability that a relative who just moved to a county in the Kansas City \n",
    "metropolitan area also lives in a county in Kansas. Make sure to show \n",
    "P(Kansas) (assuming your relative lives either in Kansas or Missouri), \n",
    "P(Kansas City metropolitan area), and P(Kansas City metropolitan area | \n",
    "Kansas)."
   ]
  },
  {
   "cell_type": "code",
   "execution_count": 25,
   "metadata": {
    "ExecuteTime": {
     "end_time": "2021-03-03T18:31:27.029792Z",
     "start_time": "2021-03-03T18:31:27.024786Z"
    }
   },
   "outputs": [
    {
     "data": {
      "text/plain": [
       "0.4"
      ]
     },
     "execution_count": 25,
     "metadata": {},
     "output_type": "execute_result"
    }
   ],
   "source": [
    "kansas_counties = 105\n",
    "missouri_counties = 114\n",
    "p_kc_kansas = 6/105\n",
    "p_kc_missouri = 9/114\n",
    "total_counties = kansas_counties + missouri_counties\n",
    "\n",
    "p_kansas_kc = (p_kc_kansas*(kansas_counties/total_counties))/(15/total_counties)\n",
    "p_kansas_kc"
   ]
  },
  {
   "cell_type": "markdown",
   "metadata": {},
   "source": [
    "## Q2\n",
    "A deck of cards has 52 cards with suits that are either red or black. \n",
    "There are four aces in a deck of cards: two red and two black. You remove a red ace from the deck and shuffle the cards. Your friend pulls a black card. What is the probability that it is an ace?"
   ]
  },
  {
   "cell_type": "code",
   "execution_count": 26,
   "metadata": {
    "ExecuteTime": {
     "end_time": "2021-03-03T18:36:26.020147Z",
     "start_time": "2021-03-03T18:36:26.015190Z"
    }
   },
   "outputs": [
    {
     "name": "stdout",
     "output_type": "stream",
     "text": [
      "True\n",
      "0.07692307692307693\n"
     ]
    }
   ],
   "source": [
    "p_ace_black_1 = 2/26 # = 1/13;already the answer will use bayes theorem however\n",
    "\n",
    "p_ace = 3/51\n",
    "p_black_ace = 2/3 #p(black card given ace)\n",
    "p_black = 26/51\n",
    "\n",
    "\n",
    "p_ace_black_2 = (p_black_ace*p_ace)/p_black\n",
    "\n",
    "print(p_ace_black_1 == p_ace_black_2)\n",
    "print(p_ace_black_2)"
   ]
  },
  {
   "cell_type": "markdown",
   "metadata": {},
   "source": [
    "# Chapter 8:The Prior, Likelihood, and Posterior of Bayes’ Theorem\n",
    "## Q1. \n",
    "As mentioned, you might disagree with the our original probability \n",
    "assigned to the likelihood: \n",
    "\n",
    "P(broken window, open front door, missing laptop | robbed) = 3/10\n",
    "\n",
    "How much does this change our strength in believing H1 over H2?"
   ]
  },
  {
   "cell_type": "markdown",
   "metadata": {},
   "source": [
    " *fill*"
   ]
  },
  {
   "cell_type": "markdown",
   "metadata": {},
   "source": [
    "## Q2. \n",
    "How unlikely would you have to believe being robbed is—our prior \n",
    "for H1—in order for the ratio of H1 to H2 to be even?"
   ]
  },
  {
   "cell_type": "code",
   "execution_count": 27,
   "metadata": {},
   "outputs": [
    {
     "data": {
      "text/plain": [
       "1.0"
      ]
     },
     "execution_count": 27,
     "metadata": {},
     "output_type": "execute_result"
    }
   ],
   "source": [
    "((1/(1000*6570))*(3/10))/(1/21900000) # for P(D|H1)=3/10 (value before Q1)"
   ]
  },
  {
   "cell_type": "code",
   "execution_count": 28,
   "metadata": {},
   "outputs": [
    {
     "data": {
      "text/plain": [
       "1.0"
      ]
     },
     "execution_count": 28,
     "metadata": {},
     "output_type": "execute_result"
    }
   ],
   "source": [
    "((1/(1000*657))*(3/100))/(1/21900000)# for P(D|H1)=3/100 (value after Q1)"
   ]
  },
  {
   "cell_type": "markdown",
   "metadata": {},
   "source": [
    "# Chapter 9: Bayesian Priors and Working with Probability Distributions\n",
    "## Q1. \n",
    "A friend finds a coin on the ground, flips it, and gets six heads in a \n",
    "row and then one tails. Give the beta distribution that describes this. \n",
    "Use integration to determine the probability that the true rate of flipping \n",
    "heads is between 0.4 and 0.6, reflecting that the coin is reasonably fair."
   ]
  },
  {
   "cell_type": "code",
   "execution_count": 34,
   "metadata": {},
   "outputs": [
    {
     "data": {
      "text/plain": [
       "0.04256"
      ]
     },
     "execution_count": 34,
     "metadata": {},
     "output_type": "execute_result"
    }
   ],
   "source": [
    "beta_coin = beta(6,1).cdf\n",
    "round((beta_coin(0.6)-beta_coin(0.4)),5)"
   ]
  },
  {
   "cell_type": "markdown",
   "metadata": {},
   "source": [
    "## Q2. \n",
    "Come up with a prior probability that the coin is fair. Use a beta \n",
    "distribution such that there is at least a 95 percent chance that the true \n",
    "rate of flipping heads is between 0.4 and 0.6."
   ]
  },
  {
   "cell_type": "code",
   "execution_count": 40,
   "metadata": {},
   "outputs": [
    {
     "data": {
      "text/plain": [
       "0.95275"
      ]
     },
     "execution_count": 40,
     "metadata": {},
     "output_type": "execute_result"
    }
   ],
   "source": [
    "fair_prior = 55 # 55 gives around 95%, 100 gives over 99%\n",
    "beta_fair = beta(6+fair_prior,1+fair_prior).cdf\n",
    "round((beta_fair(0.6)-beta_fair(0.4)),5)"
   ]
  },
  {
   "cell_type": "markdown",
   "metadata": {},
   "source": [
    "## Q3. \n",
    "Now see how many more heads (with no more tails) it would take to \n",
    "convince you that there is a reasonable chance that the coin is not fair. In \n",
    "this case, let’s say that this means that our belief in the rate of the coin \n",
    "being between 0.4 and 0.6 drops below 0.5."
   ]
  },
  {
   "cell_type": "code",
   "execution_count": 43,
   "metadata": {},
   "outputs": [
    {
     "name": "stdout",
     "output_type": "stream",
     "text": [
      "Additional heads: 0 ; belief in rate between 0.4 and 0.6: 0.95275\n",
      "Additional heads: 5 ; belief in rate between 0.4 and 0.6: 0.90469\n",
      "Additional heads: 10 ; belief in rate between 0.4 and 0.6: 0.8232\n",
      "Additional heads: 15 ; belief in rate between 0.4 and 0.6: 0.71113\n",
      "Additional heads: 20 ; belief in rate between 0.4 and 0.6: 0.5785\n",
      "Additional heads: 25 ; belief in rate between 0.4 and 0.6: 0.44077\n"
     ]
    }
   ],
   "source": [
    "add_head = range(0,30,5)\n",
    "for i in add_head:\n",
    "    beta_notfair = beta(6+fair_prior+i,1+fair_prior).cdf\n",
    "    print(f\"Additional heads: {i} ; belief in rate between 0.4 and 0.6: {round((beta_notfair(0.6)-beta_notfair(0.4)),5)}\")"
   ]
  },
  {
   "cell_type": "markdown",
   "metadata": {},
   "source": [
    "# Chapter 10: Introduction to Averaging and Parameter Estimation\n",
    "## Q1. \n",
    "It’s possible to get errors that don’t quite cancel out the way we want. \n",
    "In the Fahrenheit temperature scale, 98.6 degrees is the normal body temperature and 100.4 degrees is the typical threshold for a fever. Say you are taking care of a child that feels warm and seems sick, but you take \n",
    "repeated readings from the thermometer and they all read between 99.5 \n",
    "and 100.0 degrees: warm, but not quite a fever. You try the thermometer \n",
    "yourself and get several readings between 97.5 and 98. What could be \n",
    "wrong with the thermometer?"
   ]
  },
  {
   "cell_type": "markdown",
   "metadata": {},
   "source": [
    "The thermometer seems to measure incorrectly. It seems to measure about 1°F below the actual temperature."
   ]
  },
  {
   "cell_type": "markdown",
   "metadata": {},
   "source": [
    "## Q2. \n",
    "Given that you feel healthy and have traditionally had a very consistently normal temperature, how could you alter the measurements 100, 99.5, 99.6, and 100.2 to estimate if the child has a fever?"
   ]
  },
  {
   "cell_type": "markdown",
   "metadata": {},
   "source": [
    "Add 1°F in accordance with the biased measurement to attain the actual temperature. This results in 101,100.5,100.6,101.2 which all lie above the 100.4 fever threshold."
   ]
  },
  {
   "cell_type": "markdown",
   "metadata": {},
   "source": [
    "# Chapter 11: Measuring the Spread of Our Data\n",
    "## Q1. \n",
    "One of the benefits of variance is that squaring the differences makes \n",
    "the penalties exponential. Give some examples of when this would be a \n",
    "useful property."
   ]
  },
  {
   "cell_type": "markdown",
   "metadata": {},
   "source": [
    "Whenever we have strong outliers (very small or very large values) that are important to our observations/data this property is useful. E.g. if we want to penalize the lateness of a student it might not make much of a difference if the student is 2minutes late, if she however is 200mins late she missed the whole class which is far worse."
   ]
  },
  {
   "cell_type": "markdown",
   "metadata": {},
   "source": [
    "## Q2. \n",
    "Calculate the mean, variance, and standard deviation for the \n",
    "following values: 1, 2, 3, 4, 5, 6, 7, 8, 9, 10."
   ]
  },
  {
   "cell_type": "code",
   "execution_count": 51,
   "metadata": {},
   "outputs": [],
   "source": [
    "#calculations from scratch without the explicit numpy functions to show the formulas\n",
    "def scratch_mean(x)->float:\n",
    "    return sum(x)/len(x)\n",
    "def scratch_var(x)->float:\n",
    "    return sum([(i-scratch_mean(x))**2 for i in x])/len(x)\n",
    "def scratch_sd(x)->float:\n",
    "    return np.sqrt(scratch_var(x))"
   ]
  },
  {
   "cell_type": "code",
   "execution_count": 52,
   "metadata": {},
   "outputs": [
    {
     "name": "stdout",
     "output_type": "stream",
     "text": [
      "Mean: 5.5\n",
      "Variance: 8.25\n",
      "SD: 2.8722813232690143\n"
     ]
    }
   ],
   "source": [
    "q2_values = [1,2,3,4,5,6,7,8,9,10]\n",
    "\n",
    "print(f\"Mean: {scratch_mean(q2_values)}\")\n",
    "print(f\"Variance: {scratch_var(q2_values)}\")\n",
    "print(f\"SD: {scratch_sd(q2_values)}\")"
   ]
  },
  {
   "cell_type": "code",
   "execution_count": null,
   "metadata": {},
   "outputs": [],
   "source": []
  }
 ],
 "metadata": {
  "kernelspec": {
   "display_name": "Python 3",
   "language": "python",
   "name": "python3"
  },
  "language_info": {
   "codemirror_mode": {
    "name": "ipython",
    "version": 3
   },
   "file_extension": ".py",
   "mimetype": "text/x-python",
   "name": "python",
   "nbconvert_exporter": "python",
   "pygments_lexer": "ipython3",
   "version": "3.8.3"
  },
  "toc": {
   "base_numbering": 1,
   "nav_menu": {},
   "number_sections": true,
   "sideBar": true,
   "skip_h1_title": false,
   "title_cell": "Table of Contents",
   "title_sidebar": "Contents",
   "toc_cell": false,
   "toc_position": {},
   "toc_section_display": true,
   "toc_window_display": false
  },
  "varInspector": {
   "cols": {
    "lenName": 16,
    "lenType": 16,
    "lenVar": 40
   },
   "kernels_config": {
    "python": {
     "delete_cmd_postfix": "",
     "delete_cmd_prefix": "del ",
     "library": "var_list.py",
     "varRefreshCmd": "print(var_dic_list())"
    },
    "r": {
     "delete_cmd_postfix": ") ",
     "delete_cmd_prefix": "rm(",
     "library": "var_list.r",
     "varRefreshCmd": "cat(var_dic_list()) "
    }
   },
   "oldHeight": 437.4,
   "position": {
    "height": "40px",
    "left": "1159px",
    "right": "20px",
    "top": "97px",
    "width": "350px"
   },
   "types_to_exclude": [
    "module",
    "function",
    "builtin_function_or_method",
    "instance",
    "_Feature"
   ],
   "varInspector_section_display": "none",
   "window_display": true
  }
 },
 "nbformat": 4,
 "nbformat_minor": 4
}
