{
 "cells": [
  {
   "cell_type": "markdown",
   "metadata": {},
   "source": [
    "## Intro\n",
    "\n",
    "This notebook contains solutions to the exercises provided in the book \"Bayesian Statistics the Fun Way\" by Will Kurt. The solutions are in Python as opposed to R (like the official solutions).\n",
    "For many exercises there are a couple of ways you can reach to solution depending on the packages you use (or if you even want to do it in pure Python).\n",
    "\n",
    "I opted for **scipy.stats, numpy, itertools** and **seaborn/matplotlib**. I encourage you to try out other ways!\n",
    "\n",
    "The solutions have been checked with the official solutions. There are however 1-2 instances were I think a mistake was made in the official solutions (see Chapter 7 Q3).\n",
    "\n",
    "I would encourage you to try to find the solutions yourself first and then look them up here and in the official solutions.\n",
    "\n",
    "\n",
    "I do not provide as much verbal explanations as the official solutions, because the author explains quite well and I think you should read his answers to the questions.\n",
    "\n",
    "If you have any questions or find an error feel free to contact me or raise an issue in the github repo!\n",
    "\n",
    "You might also want to check out [this repo](https://github.com/Montanaz0r/Bayesian-Statistics-The-Fun-Way), which contains other ways to come to the solutions and Python code for the R code examples within the chapters."
   ]
  },
  {
   "cell_type": "code",
   "execution_count": 1,
   "metadata": {
    "ExecuteTime": {
     "end_time": "2021-03-09T14:31:11.252103Z",
     "start_time": "2021-03-09T14:31:09.497046Z"
    }
   },
   "outputs": [],
   "source": [
    "import itertools\n",
    "import numpy as np\n",
    "import seaborn as sns\n",
    "import matplotlib.pyplot as plt\n",
    "from scipy.stats import beta, binom, norm\n",
    "\n",
    "np.random.seed(13) #set random seed for all random processes\n",
    "sns.set_style(\"whitegrid\") #set style for seaborn"
   ]
  },
  {
   "cell_type": "code",
   "execution_count": 2,
   "metadata": {
    "ExecuteTime": {
     "end_time": "2021-03-09T14:31:11.264085Z",
     "start_time": "2021-03-09T14:31:11.257089Z"
    }
   },
   "outputs": [],
   "source": [
    "#small function for n over k by Andrew Dalke (found on StackOverflow)\n",
    "def choose(n, k):\n",
    "    \"\"\"\n",
    "    A fast way to calculate binomial coefficients by Andrew Dalke (contrib).\n",
    "    \"\"\"\n",
    "    if 0 <= k <= n:\n",
    "        ntok = 1\n",
    "        ktok = 1\n",
    "        for t in range(1, min(k, n - k) + 1):\n",
    "            ntok *= n\n",
    "            ktok *= t\n",
    "            n -= 1\n",
    "        return ntok // ktok\n",
    "    else:\n",
    "        return 0"
   ]
  },
  {
   "cell_type": "markdown",
   "metadata": {},
   "source": [
    "# Chapter 1: \n",
    "\n",
    "**The exercises for Chapter one are best done with pen and paper I did not include them here.**"
   ]
  },
  {
   "cell_type": "markdown",
   "metadata": {},
   "source": [
    "# Chapter 2: \n",
    "\n",
    "## Q1.\n",
    "What is the probability of rolling two six-sided dice and getting a \n",
    "value greater than 7?"
   ]
  },
  {
   "cell_type": "code",
   "execution_count": 3,
   "metadata": {
    "ExecuteTime": {
     "end_time": "2021-03-09T14:31:11.274046Z",
     "start_time": "2021-03-09T14:31:11.266085Z"
    }
   },
   "outputs": [
    {
     "data": {
      "text/plain": [
       "[(1, 1),\n",
       " (1, 2),\n",
       " (1, 3),\n",
       " (1, 4),\n",
       " (1, 5),\n",
       " (1, 6),\n",
       " (2, 1),\n",
       " (2, 2),\n",
       " (2, 3),\n",
       " (2, 4),\n",
       " (2, 5),\n",
       " (2, 6),\n",
       " (3, 1),\n",
       " (3, 2),\n",
       " (3, 3),\n",
       " (3, 4),\n",
       " (3, 5),\n",
       " (3, 6),\n",
       " (4, 1),\n",
       " (4, 2),\n",
       " (4, 3),\n",
       " (4, 4),\n",
       " (4, 5),\n",
       " (4, 6),\n",
       " (5, 1),\n",
       " (5, 2),\n",
       " (5, 3),\n",
       " (5, 4),\n",
       " (5, 5),\n",
       " (5, 6),\n",
       " (6, 1),\n",
       " (6, 2),\n",
       " (6, 3),\n",
       " (6, 4),\n",
       " (6, 5),\n",
       " (6, 6)]"
      ]
     },
     "execution_count": 3,
     "metadata": {},
     "output_type": "execute_result"
    }
   ],
   "source": [
    "combinations = list(itertools.product(range(1,7),range(1,7))) \n",
    "#itertools.product returns the cartesian product of two iterables\n",
    "combinations"
   ]
  },
  {
   "cell_type": "code",
   "execution_count": 4,
   "metadata": {
    "ExecuteTime": {
     "end_time": "2021-03-09T14:31:11.280048Z",
     "start_time": "2021-03-09T14:31:11.276048Z"
    }
   },
   "outputs": [],
   "source": [
    "greater_7 = [sum(i) for i in combinations if sum(i) > 7]"
   ]
  },
  {
   "cell_type": "code",
   "execution_count": 5,
   "metadata": {
    "ExecuteTime": {
     "end_time": "2021-03-09T14:31:11.291048Z",
     "start_time": "2021-03-09T14:31:11.282046Z"
    }
   },
   "outputs": [
    {
     "name": "stdout",
     "output_type": "stream",
     "text": [
      "Number of pairs with values greater than 7:  15\n",
      "Total number of pairs: 36\n",
      "P(>7)=0.42\n"
     ]
    }
   ],
   "source": [
    "print(f\"Number of pairs with values greater than 7:  {len(greater_7)}\")\n",
    "print(f\"Total number of pairs: {len(combinations)}\")\n",
    "print(f\"P(>7)={round(len(greater_7)/len(combinations),2)}\")"
   ]
  },
  {
   "cell_type": "markdown",
   "metadata": {},
   "source": [
    "## Q2.\n",
    "What is the probability of rolling three six-sided dice and getting a \n",
    "value greater than 7?"
   ]
  },
  {
   "cell_type": "code",
   "execution_count": 6,
   "metadata": {
    "ExecuteTime": {
     "end_time": "2021-03-09T14:31:11.298054Z",
     "start_time": "2021-03-09T14:31:11.293048Z"
    }
   },
   "outputs": [],
   "source": [
    "combinations_3dice = list(itertools.product(range(1,7),range(1,7),range(1,7)))\n",
    "greater_7_3dice = [sum(i) for i in combinations_3dice if sum(i) > 7]"
   ]
  },
  {
   "cell_type": "code",
   "execution_count": 7,
   "metadata": {
    "ExecuteTime": {
     "end_time": "2021-03-09T14:31:11.306059Z",
     "start_time": "2021-03-09T14:31:11.300047Z"
    }
   },
   "outputs": [
    {
     "name": "stdout",
     "output_type": "stream",
     "text": [
      "Number of pairs with values greater than 7:  181\n",
      "Total number of pairs: 216\n",
      "P(>7)=0.84\n"
     ]
    }
   ],
   "source": [
    "print(f\"Number of pairs with values greater than 7:  {len(greater_7_3dice)}\")\n",
    "print(f\"Total number of pairs: {len(combinations_3dice)}\")\n",
    "print(f\"P(>7)={round(len(greater_7_3dice)/len(combinations_3dice),2)}\")"
   ]
  },
  {
   "cell_type": "markdown",
   "metadata": {},
   "source": [
    "## Q3.\n",
    "The Yankees are playing the Red Sox. You’re a diehard Sox fan and \n",
    "bet your friend they’ll win the game. You’ll pay your friend 30 dollars if the Sox \n",
    "lose and your friend will have to pay you only 5 dollars if the Sox win. What is \n",
    "the probability you have intuitively assigned to the belief that the Red Sox \n",
    "will win?"
   ]
  },
  {
   "cell_type": "code",
   "execution_count": 8,
   "metadata": {
    "ExecuteTime": {
     "end_time": "2021-03-09T14:31:11.314060Z",
     "start_time": "2021-03-09T14:31:11.309048Z"
    }
   },
   "outputs": [
    {
     "data": {
      "text/plain": [
       "0.86"
      ]
     },
     "execution_count": 8,
     "metadata": {},
     "output_type": "execute_result"
    }
   ],
   "source": [
    "odds_RSwin = 30/5\n",
    "prob_RSwin = odds_RSwin/(1+odds_RSwin)\n",
    "round(prob_RSwin,2)"
   ]
  },
  {
   "cell_type": "markdown",
   "metadata": {},
   "source": [
    "# Chapter 3: The Logic of Uncertainty\n",
    "## Q1. \n",
    "What is the probability of rolling a 20 three times in a row on a \n",
    "20-sided die?"
   ]
  },
  {
   "cell_type": "code",
   "execution_count": 9,
   "metadata": {
    "ExecuteTime": {
     "end_time": "2021-03-09T14:31:11.320068Z",
     "start_time": "2021-03-09T14:31:11.316047Z"
    }
   },
   "outputs": [
    {
     "data": {
      "text/plain": [
       "0.00012500000000000003"
      ]
     },
     "execution_count": 9,
     "metadata": {},
     "output_type": "execute_result"
    }
   ],
   "source": [
    "(1/20)**3 # or (1/20)*(1/20)*(1/20)"
   ]
  },
  {
   "cell_type": "markdown",
   "metadata": {},
   "source": [
    "## Q2. \n",
    "The weather report says there’s a 10 percent chance of rain tomorrow, \n",
    "and you forget your umbrella half the time you go out. What is the probability that you’ll be caught in the rain without an umbrella tomorrow?"
   ]
  },
  {
   "cell_type": "code",
   "execution_count": 10,
   "metadata": {
    "ExecuteTime": {
     "end_time": "2021-03-09T14:31:11.325049Z",
     "start_time": "2021-03-09T14:31:11.322046Z"
    }
   },
   "outputs": [
    {
     "data": {
      "text/plain": [
       "0.05"
      ]
     },
     "execution_count": 10,
     "metadata": {},
     "output_type": "execute_result"
    }
   ],
   "source": [
    "p_rain = 0.1\n",
    "p_umbrella = 0.5\n",
    "p_rain*p_umbrella"
   ]
  },
  {
   "cell_type": "markdown",
   "metadata": {},
   "source": [
    "## Q3. \n",
    "Raw eggs have a 1/20,000 probability of having salmonella. If you eat \n",
    "two raw eggs, what is the probability you ate a raw egg with salmonella?"
   ]
  },
  {
   "cell_type": "code",
   "execution_count": 11,
   "metadata": {
    "ExecuteTime": {
     "end_time": "2021-03-09T14:31:11.331045Z",
     "start_time": "2021-03-09T14:31:11.326050Z"
    }
   },
   "outputs": [
    {
     "data": {
      "text/plain": [
       "0.0001"
      ]
     },
     "execution_count": 11,
     "metadata": {},
     "output_type": "execute_result"
    }
   ],
   "source": [
    "1/20000 + 1/20000 #given that they are independent"
   ]
  },
  {
   "cell_type": "code",
   "execution_count": 12,
   "metadata": {
    "ExecuteTime": {
     "end_time": "2021-03-09T14:31:11.338046Z",
     "start_time": "2021-03-09T14:31:11.333046Z"
    }
   },
   "outputs": [
    {
     "data": {
      "text/plain": [
       "0.0001"
      ]
     },
     "execution_count": 12,
     "metadata": {},
     "output_type": "execute_result"
    }
   ],
   "source": [
    "round(1/20000 + 1/20000 - 1/20000 * (1/20000),5) #more formally correct"
   ]
  },
  {
   "cell_type": "markdown",
   "metadata": {},
   "source": [
    "## Q4. \n",
    "What is the probability of either flipping two heads in two coin tosses \n",
    "or rolling three 6s in three six-sided dice rolls?"
   ]
  },
  {
   "cell_type": "code",
   "execution_count": 13,
   "metadata": {
    "ExecuteTime": {
     "end_time": "2021-03-09T14:31:11.345046Z",
     "start_time": "2021-03-09T14:31:11.339048Z"
    }
   },
   "outputs": [
    {
     "data": {
      "text/plain": [
       "0.25"
      ]
     },
     "execution_count": 13,
     "metadata": {},
     "output_type": "execute_result"
    }
   ],
   "source": [
    "p_two_heads = 0.5 * 0.5\n",
    "p_three_six = (1/6)*(1/6)*(1/6)\n",
    "p_either_event = p_two_heads + p_three_six\n",
    "round(p_either_event,2)"
   ]
  },
  {
   "cell_type": "markdown",
   "metadata": {},
   "source": [
    "# Chapter 4: Creating a Binomial Probability Distribution\n",
    "## Q1. \n",
    "What are the parameters of the binomial distribution for the probability of rolling either a 1 or a 20 on a 20-sided die, if we roll the die \n",
    "12 times?"
   ]
  },
  {
   "cell_type": "code",
   "execution_count": 14,
   "metadata": {
    "ExecuteTime": {
     "end_time": "2021-03-09T14:31:11.350087Z",
     "start_time": "2021-03-09T14:31:11.346085Z"
    }
   },
   "outputs": [],
   "source": [
    "p = 1/20 + 1/20 #prob of either 1 or 20\n",
    "k = 1 #looking for event to occur once\n",
    "n = 12 # 12 trials"
   ]
  },
  {
   "cell_type": "markdown",
   "metadata": {},
   "source": [
    "## Q2. \n",
    "There are four aces in a deck of 52 cards. If you pull a card, return \n",
    "the card, then reshuffle and pull a card again, how many ways can you pull \n",
    "just one ace in five pulls?"
   ]
  },
  {
   "cell_type": "code",
   "execution_count": 15,
   "metadata": {
    "ExecuteTime": {
     "end_time": "2021-03-09T14:31:11.355082Z",
     "start_time": "2021-03-09T14:31:11.351070Z"
    }
   },
   "outputs": [
    {
     "data": {
      "text/plain": [
       "5"
      ]
     },
     "execution_count": 15,
     "metadata": {},
     "output_type": "execute_result"
    }
   ],
   "source": [
    "choose(5,1)"
   ]
  },
  {
   "cell_type": "markdown",
   "metadata": {},
   "source": [
    "## Q3. \n",
    "For the example in question 2, what is the probability of pulling five \n",
    "aces in 10 pulls (remember the card is shuffled back in the deck when it is \n",
    "pulled)?"
   ]
  },
  {
   "cell_type": "code",
   "execution_count": 16,
   "metadata": {
    "ExecuteTime": {
     "end_time": "2021-03-09T14:31:11.361075Z",
     "start_time": "2021-03-09T14:31:11.356046Z"
    }
   },
   "outputs": [
    {
     "data": {
      "text/plain": [
       "0.0004548552879040868"
      ]
     },
     "execution_count": 16,
     "metadata": {},
     "output_type": "execute_result"
    }
   ],
   "source": [
    "k = 5\n",
    "n = 10\n",
    "p = 4/52\n",
    "binom.pmf(k,n,p)"
   ]
  },
  {
   "cell_type": "markdown",
   "metadata": {},
   "source": [
    "## Q4. \n",
    "When you’re searching for a new job, it’s always helpful to have more \n",
    "than one offer on the table so you can use it in negotiations. If you have a \n",
    "1/5 probability of receiving a job offer when you interview, and you interview with seven companies in a month, what is the probability you’ll have \n",
    "at least two competing offers by the end of that month?"
   ]
  },
  {
   "cell_type": "code",
   "execution_count": 17,
   "metadata": {
    "ExecuteTime": {
     "end_time": "2021-03-09T14:31:11.367047Z",
     "start_time": "2021-03-09T14:31:11.362047Z"
    }
   },
   "outputs": [
    {
     "data": {
      "text/plain": [
       "0.42328319999999986"
      ]
     },
     "execution_count": 17,
     "metadata": {},
     "output_type": "execute_result"
    }
   ],
   "source": [
    "p_offer = 1/5\n",
    "n = 7\n",
    "p_two_or_more_7 = binom.cdf(7,n,p_offer)-binom.cdf(1,n,p_offer) #prob from 2 offers to 7 offers\n",
    "p_two_or_more_7"
   ]
  },
  {
   "cell_type": "markdown",
   "metadata": {},
   "source": [
    "## Q5. \n",
    "You get a bunch of recruiter emails and find out you have 25 interviews lined up in the next month. Unfortunately, you know this will leave \n",
    "you exhausted, and the probability of getting an offer will drop to 1/10 \n",
    "if you’re tired. You really don’t want to go on this many interviews unless \n",
    "you are at least twice as likely to get at least two competing offers. Are you \n",
    "more likely to get at least two offers if you go for 25 interviews, or stick to \n",
    "just 7?"
   ]
  },
  {
   "cell_type": "code",
   "execution_count": 18,
   "metadata": {
    "ExecuteTime": {
     "end_time": "2021-03-09T14:31:11.374046Z",
     "start_time": "2021-03-09T14:31:11.368045Z"
    }
   },
   "outputs": [
    {
     "data": {
      "text/plain": [
       "0.7265327819658538"
      ]
     },
     "execution_count": 18,
     "metadata": {},
     "output_type": "execute_result"
    }
   ],
   "source": [
    "n_interview = 25\n",
    "p_offer_tired = 1/10\n",
    "p_two_or_more_25 = binom.cdf(7,n_interview,p_offer_tired)-binom.cdf(1,n_interview,p_offer_tired)\n",
    "p_two_or_more_25"
   ]
  },
  {
   "cell_type": "code",
   "execution_count": 19,
   "metadata": {
    "ExecuteTime": {
     "end_time": "2021-03-09T14:31:11.380046Z",
     "start_time": "2021-03-09T14:31:11.375046Z"
    }
   },
   "outputs": [
    {
     "data": {
      "text/plain": [
       "1.7164224376631392"
      ]
     },
     "execution_count": 19,
     "metadata": {},
     "output_type": "execute_result"
    }
   ],
   "source": [
    "p_two_or_more_25/p_two_or_more_7"
   ]
  },
  {
   "cell_type": "markdown",
   "metadata": {},
   "source": [
    "Only 1.7 times more likely to get an offer not twice."
   ]
  },
  {
   "cell_type": "markdown",
   "metadata": {},
   "source": [
    "# Chapter 5: The Beta Distribution\n",
    "## Q1. \n",
    "You want to use the beta distribution to determine whether or not a\n",
    "coin you have is a fair coin—meaning that the coin gives you heads and\n",
    "tails equally. You flip the coin 10 times and get 4 heads and 6 tails. Using\n",
    "the beta distribution, what is the probability that the coin will land on\n",
    "heads more than 60 percent of the time?"
   ]
  },
  {
   "cell_type": "code",
   "execution_count": 20,
   "metadata": {
    "ExecuteTime": {
     "end_time": "2021-03-09T14:31:11.388045Z",
     "start_time": "2021-03-09T14:31:11.381049Z"
    }
   },
   "outputs": [
    {
     "data": {
      "text/plain": [
       "0.09935257600000003"
      ]
     },
     "execution_count": 20,
     "metadata": {},
     "output_type": "execute_result"
    }
   ],
   "source": [
    "betacdf = beta(4,6).cdf\n",
    "\n",
    "betacdf(1.0) - betacdf(0.6)"
   ]
  },
  {
   "cell_type": "markdown",
   "metadata": {},
   "source": [
    "## Q2. \n",
    "You flip the coin 10 more times and now have 9 heads and 11 tails\n",
    "total. What is the probability that the coin is fair, using our definition of\n",
    "fair, give or take 5 percent?"
   ]
  },
  {
   "cell_type": "code",
   "execution_count": 21,
   "metadata": {
    "ExecuteTime": {
     "end_time": "2021-03-09T14:31:11.396045Z",
     "start_time": "2021-03-09T14:31:11.390047Z"
    }
   },
   "outputs": [
    {
     "data": {
      "text/plain": [
       "0.3098800156513042"
      ]
     },
     "execution_count": 21,
     "metadata": {},
     "output_type": "execute_result"
    }
   ],
   "source": [
    "betacdf = beta(9,11).cdf\n",
    "\n",
    "betacdf(0.55) - betacdf(0.45)"
   ]
  },
  {
   "cell_type": "markdown",
   "metadata": {},
   "source": [
    "## Q3. \n",
    "Data is the best way to become more confident in your assertions. You\n",
    "flip the coin 200 more times and end up with 109 heads and 111 tails. Now\n",
    "what is the probability that the coin is fair, give or take 5 percent?"
   ]
  },
  {
   "cell_type": "code",
   "execution_count": 22,
   "metadata": {
    "ExecuteTime": {
     "end_time": "2021-03-09T14:31:11.404045Z",
     "start_time": "2021-03-09T14:31:11.397046Z"
    }
   },
   "outputs": [
    {
     "data": {
      "text/plain": [
       "0.8589371426532354"
      ]
     },
     "execution_count": 22,
     "metadata": {},
     "output_type": "execute_result"
    }
   ],
   "source": [
    "betacdf = beta(109,111).cdf\n",
    "\n",
    "betacdf(0.55) - betacdf(0.45)"
   ]
  },
  {
   "cell_type": "markdown",
   "metadata": {},
   "source": [
    "# Chapter 6: Conditional Probability\n",
    "## Q1. \n",
    "What piece of information would we need in order to use Bayes’\n",
    "theorem to determine the probability that someone in 2010 who had GBS\n",
    "also had the flu vaccine that year?"
   ]
  },
  {
   "attachments": {
    "image.png": {
     "image/png": "[encoded data removed]"
    }
   },
   "cell_type": "markdown",
   "metadata": {},
   "source": [
    "![image.png](attachment:image.png)"
   ]
  },
  {
   "cell_type": "markdown",
   "metadata": {},
   "source": [
    "## Q2. \n",
    "What is the probability that a random person picked from the\n",
    "population is female and is not color blind?"
   ]
  },
  {
   "cell_type": "code",
   "execution_count": 23,
   "metadata": {
    "ExecuteTime": {
     "end_time": "2021-03-09T14:31:11.411084Z",
     "start_time": "2021-03-09T14:31:11.407047Z"
    }
   },
   "outputs": [
    {
     "data": {
      "text/plain": [
       "0.4975"
      ]
     },
     "execution_count": 23,
     "metadata": {},
     "output_type": "execute_result"
    }
   ],
   "source": [
    "p_female = 0.5\n",
    "p_colorblind_given_f = 0.005\n",
    "p_notcolorblind_female = p_female*(1-p_colorblind_given_f)\n",
    "p_notcolorblind_female"
   ]
  },
  {
   "cell_type": "markdown",
   "metadata": {},
   "source": [
    "## Q3. \n",
    "What is the probability that a male who received the flu vaccine in\n",
    "2010 is either color blind or has GBS?"
   ]
  },
  {
   "cell_type": "code",
   "execution_count": 24,
   "metadata": {
    "ExecuteTime": {
     "end_time": "2021-03-09T14:31:11.419046Z",
     "start_time": "2021-03-09T14:31:11.413047Z"
    }
   },
   "outputs": [
    {
     "data": {
      "text/plain": [
       "0.0400288"
      ]
     },
     "execution_count": 24,
     "metadata": {},
     "output_type": "execute_result"
    }
   ],
   "source": [
    "#gives 0.04 not 0.004 as described in book solutions.\n",
    "p_GBS_given_fvac = 3/100000\n",
    "p_colorblind_given_m = 0.08\n",
    "p_male = 0.5\n",
    "p_male_and_colorblind = p_colorblind_given_m * p_male \n",
    "\n",
    "p_male_and_colorblind + p_GBS_given_fvac - p_male_and_colorblind * p_GBS_given_fvac"
   ]
  },
  {
   "cell_type": "markdown",
   "metadata": {},
   "source": [
    "# Chapter 7: Bayes' Theorem with LEGO\n",
    "\n",
    "## Q1.\n",
    "Kansas City, despite its name, sits on the border of two US states: \n",
    "Missouri and Kansas. The Kansas City metropolitan area consists of \n",
    "15 counties, 9 in Missouri and 6 in Kansas. The entire state of Kansas has \n",
    "105 counties and Missouri has 114. Use Bayes’ theorem to calculate the \n",
    "probability that a relative who just moved to a county in the Kansas City \n",
    "metropolitan area also lives in a county in Kansas. Make sure to show \n",
    "P(Kansas) (assuming your relative lives either in Kansas or Missouri), \n",
    "P(Kansas City metropolitan area), and P(Kansas City metropolitan area | \n",
    "Kansas)."
   ]
  },
  {
   "cell_type": "code",
   "execution_count": 25,
   "metadata": {
    "ExecuteTime": {
     "end_time": "2021-03-09T14:31:11.426046Z",
     "start_time": "2021-03-09T14:31:11.420045Z"
    }
   },
   "outputs": [
    {
     "data": {
      "text/plain": [
       "0.4"
      ]
     },
     "execution_count": 25,
     "metadata": {},
     "output_type": "execute_result"
    }
   ],
   "source": [
    "kansas_counties = 105\n",
    "missouri_counties = 114\n",
    "p_kc_kansas = 6/105\n",
    "p_kc_missouri = 9/114\n",
    "total_counties = kansas_counties + missouri_counties\n",
    "\n",
    "p_kansas_kc = (p_kc_kansas*(kansas_counties/total_counties))/(15/total_counties)\n",
    "p_kansas_kc"
   ]
  },
  {
   "cell_type": "markdown",
   "metadata": {},
   "source": [
    "## Q2\n",
    "A deck of cards has 52 cards with suits that are either red or black. \n",
    "There are four aces in a deck of cards: two red and two black. You remove a red ace from the deck and shuffle the cards. Your friend pulls a black card. What is the probability that it is an ace?"
   ]
  },
  {
   "cell_type": "code",
   "execution_count": 26,
   "metadata": {
    "ExecuteTime": {
     "end_time": "2021-03-09T14:31:11.431049Z",
     "start_time": "2021-03-09T14:31:11.428046Z"
    }
   },
   "outputs": [
    {
     "name": "stdout",
     "output_type": "stream",
     "text": [
      "True\n",
      "0.07692307692307693\n"
     ]
    }
   ],
   "source": [
    "p_ace_black_1 = 2/26 # = 1/13;already the answer will use bayes theorem however\n",
    "\n",
    "p_ace = 3/51\n",
    "p_black_ace = 2/3 #p(black card given ace)\n",
    "p_black = 26/51\n",
    "\n",
    "\n",
    "p_ace_black_2 = (p_black_ace*p_ace)/p_black\n",
    "\n",
    "print(p_ace_black_1 == p_ace_black_2)\n",
    "print(p_ace_black_2)"
   ]
  },
  {
   "cell_type": "markdown",
   "metadata": {},
   "source": [
    "# Chapter 8:The Prior, Likelihood, and Posterior of Bayes’ Theorem\n",
    "## Q1. \n",
    "As mentioned, you might disagree with the our original probability \n",
    "assigned to the likelihood: \n",
    "\n",
    "P(broken window, open front door, missing laptop | robbed) = 3/10\n",
    "\n",
    "How much does this change our strength in believing H1 over H2?"
   ]
  },
  {
   "cell_type": "code",
   "execution_count": 27,
   "metadata": {
    "ExecuteTime": {
     "end_time": "2021-03-09T14:31:11.437053Z",
     "start_time": "2021-03-09T14:31:11.432048Z"
    }
   },
   "outputs": [
    {
     "data": {
      "text/plain": [
       "657.0"
      ]
     },
     "execution_count": 27,
     "metadata": {},
     "output_type": "execute_result"
    }
   ],
   "source": [
    "((1/(1000))*(3/100))/(1/21900000) #update 3/10 to 3/100"
   ]
  },
  {
   "cell_type": "markdown",
   "metadata": {},
   "source": [
    "## Q2. \n",
    "How unlikely would you have to believe being robbed is—our prior \n",
    "for H1—in order for the ratio of H1 to H2 to be even?"
   ]
  },
  {
   "cell_type": "code",
   "execution_count": 28,
   "metadata": {
    "ExecuteTime": {
     "end_time": "2021-03-09T14:31:11.442051Z",
     "start_time": "2021-03-09T14:31:11.438048Z"
    }
   },
   "outputs": [
    {
     "data": {
      "text/plain": [
       "1.0"
      ]
     },
     "execution_count": 28,
     "metadata": {},
     "output_type": "execute_result"
    }
   ],
   "source": [
    "((1/(1000*6570))*(3/10))/(1/21900000) # for P(D|H1)=3/10 (value before Q1)"
   ]
  },
  {
   "cell_type": "code",
   "execution_count": 29,
   "metadata": {
    "ExecuteTime": {
     "end_time": "2021-03-09T14:31:11.448052Z",
     "start_time": "2021-03-09T14:31:11.443050Z"
    }
   },
   "outputs": [
    {
     "data": {
      "text/plain": [
       "1.0"
      ]
     },
     "execution_count": 29,
     "metadata": {},
     "output_type": "execute_result"
    }
   ],
   "source": [
    "((1/(1000*657))*(3/100))/(1/21900000)# for P(D|H1)=3/100 (value after Q1)"
   ]
  },
  {
   "cell_type": "markdown",
   "metadata": {},
   "source": [
    "# Chapter 9: Bayesian Priors and Working with Probability Distributions\n",
    "## Q1. \n",
    "A friend finds a coin on the ground, flips it, and gets six heads in a \n",
    "row and then one tails. Give the beta distribution that describes this. \n",
    "Use integration to determine the probability that the true rate of flipping \n",
    "heads is between 0.4 and 0.6, reflecting that the coin is reasonably fair."
   ]
  },
  {
   "cell_type": "code",
   "execution_count": 30,
   "metadata": {
    "ExecuteTime": {
     "end_time": "2021-03-09T14:31:11.456049Z",
     "start_time": "2021-03-09T14:31:11.449049Z"
    }
   },
   "outputs": [
    {
     "data": {
      "text/plain": [
       "0.04256"
      ]
     },
     "execution_count": 30,
     "metadata": {},
     "output_type": "execute_result"
    }
   ],
   "source": [
    "beta_coin = beta(6,1).cdf\n",
    "round((beta_coin(0.6)-beta_coin(0.4)),5)"
   ]
  },
  {
   "cell_type": "markdown",
   "metadata": {},
   "source": [
    "## Q2. \n",
    "Come up with a prior probability that the coin is fair. Use a beta \n",
    "distribution such that there is at least a 95 percent chance that the true \n",
    "rate of flipping heads is between 0.4 and 0.6."
   ]
  },
  {
   "cell_type": "code",
   "execution_count": 31,
   "metadata": {
    "ExecuteTime": {
     "end_time": "2021-03-09T14:31:11.462051Z",
     "start_time": "2021-03-09T14:31:11.457050Z"
    }
   },
   "outputs": [
    {
     "data": {
      "text/plain": [
       "0.95275"
      ]
     },
     "execution_count": 31,
     "metadata": {},
     "output_type": "execute_result"
    }
   ],
   "source": [
    "fair_prior = 55 # 55 gives around 95%, 100 gives over 99%\n",
    "beta_fair = beta(6+fair_prior,1+fair_prior).cdf\n",
    "round((beta_fair(0.6)-beta_fair(0.4)),5)"
   ]
  },
  {
   "cell_type": "markdown",
   "metadata": {},
   "source": [
    "## Q3. \n",
    "Now see how many more heads (with no more tails) it would take to \n",
    "convince you that there is a reasonable chance that the coin is not fair. In \n",
    "this case, let’s say that this means that our belief in the rate of the coin \n",
    "being between 0.4 and 0.6 drops below 0.5."
   ]
  },
  {
   "cell_type": "code",
   "execution_count": 32,
   "metadata": {
    "ExecuteTime": {
     "end_time": "2021-03-09T14:31:11.475048Z",
     "start_time": "2021-03-09T14:31:11.464048Z"
    }
   },
   "outputs": [
    {
     "name": "stdout",
     "output_type": "stream",
     "text": [
      "Additional heads: 0 ; belief in rate between 0.4 and 0.6: 0.95275\n",
      "Additional heads: 5 ; belief in rate between 0.4 and 0.6: 0.90469\n",
      "Additional heads: 10 ; belief in rate between 0.4 and 0.6: 0.8232\n",
      "Additional heads: 15 ; belief in rate between 0.4 and 0.6: 0.71113\n",
      "Additional heads: 20 ; belief in rate between 0.4 and 0.6: 0.5785\n",
      "Additional heads: 25 ; belief in rate between 0.4 and 0.6: 0.44077\n"
     ]
    }
   ],
   "source": [
    "add_head = range(0,30,5)\n",
    "for i in add_head:\n",
    "    beta_notfair = beta(6+fair_prior+i,1+fair_prior).cdf\n",
    "    print(f\"Additional heads: {i} ; belief in rate between 0.4 and 0.6: {round((beta_notfair(0.6)-beta_notfair(0.4)),5)}\")"
   ]
  },
  {
   "cell_type": "markdown",
   "metadata": {},
   "source": [
    "# Chapter 10: Introduction to Averaging and Parameter Estimation\n",
    "## Q1. \n",
    "It’s possible to get errors that don’t quite cancel out the way we want. \n",
    "In the Fahrenheit temperature scale, 98.6 degrees is the normal body temperature and 100.4 degrees is the typical threshold for a fever. Say you are taking care of a child that feels warm and seems sick, but you take \n",
    "repeated readings from the thermometer and they all read between 99.5 \n",
    "and 100.0 degrees: warm, but not quite a fever. You try the thermometer \n",
    "yourself and get several readings between 97.5 and 98. What could be \n",
    "wrong with the thermometer?"
   ]
  },
  {
   "cell_type": "markdown",
   "metadata": {},
   "source": [
    "**Answer: The thermometer seems to measure incorrectly. It seems to measure about 1°F below the actual temperature.**"
   ]
  },
  {
   "cell_type": "markdown",
   "metadata": {},
   "source": [
    "## Q2. \n",
    "Given that you feel healthy and have traditionally had a very consistently normal temperature, how could you alter the measurements 100, 99.5, 99.6, and 100.2 to estimate if the child has a fever?"
   ]
  },
  {
   "cell_type": "markdown",
   "metadata": {},
   "source": [
    "**Answer: Add 1°F in accordance with the biased measurement to attain the actual temperature. This results in 101,100.5,100.6,101.2 which all lie above the 100.4 fever threshold.**"
   ]
  },
  {
   "cell_type": "markdown",
   "metadata": {},
   "source": [
    "# Chapter 11: Measuring the Spread of Our Data\n",
    "## Q1. \n",
    "One of the benefits of variance is that squaring the differences makes \n",
    "the penalties exponential. Give some examples of when this would be a \n",
    "useful property."
   ]
  },
  {
   "cell_type": "markdown",
   "metadata": {},
   "source": [
    "**Answer: Whenever we have strong outliers (very small or very large values) that are important to our observations/data this property is useful. E.g. if we want to penalize the lateness of a student it might not make much of a difference if the student is 2 minutes late, if she however is 200 mins late she missed the whole class which is far worse.**"
   ]
  },
  {
   "cell_type": "markdown",
   "metadata": {},
   "source": [
    "## Q2. \n",
    "Calculate the mean, variance, and standard deviation for the \n",
    "following values: 1, 2, 3, 4, 5, 6, 7, 8, 9, 10."
   ]
  },
  {
   "cell_type": "code",
   "execution_count": 33,
   "metadata": {
    "ExecuteTime": {
     "end_time": "2021-03-09T14:31:11.481052Z",
     "start_time": "2021-03-09T14:31:11.477048Z"
    }
   },
   "outputs": [],
   "source": [
    "#calculations from scratch without the explicit numpy functions to show the formulas\n",
    "def scratch_mean(x)->float:\n",
    "    return sum(x)/len(x)\n",
    "def scratch_var(x)->float:\n",
    "    return sum([(i-scratch_mean(x))**2 for i in x])/len(x)\n",
    "def scratch_sd(x)->float:\n",
    "    return np.sqrt(scratch_var(x))"
   ]
  },
  {
   "cell_type": "code",
   "execution_count": 34,
   "metadata": {
    "ExecuteTime": {
     "end_time": "2021-03-09T14:31:11.489048Z",
     "start_time": "2021-03-09T14:31:11.483049Z"
    }
   },
   "outputs": [
    {
     "name": "stdout",
     "output_type": "stream",
     "text": [
      "Mean: 5.5\n",
      "Variance: 8.25\n",
      "SD: 2.8722813232690143\n"
     ]
    }
   ],
   "source": [
    "q2_values = [1,2,3,4,5,6,7,8,9,10]\n",
    "\n",
    "print(f\"Mean: {scratch_mean(q2_values)}\")\n",
    "print(f\"Variance: {scratch_var(q2_values)}\")\n",
    "print(f\"SD: {scratch_sd(q2_values)}\")"
   ]
  },
  {
   "cell_type": "markdown",
   "metadata": {},
   "source": [
    "# Chapter 12: The Normal Distribution\n",
    "## Q1.\n",
    "What is the probability of observing a value five sigma greater than the mean or more?"
   ]
  },
  {
   "cell_type": "code",
   "execution_count": 35,
   "metadata": {
    "ExecuteTime": {
     "end_time": "2021-03-09T14:31:11.497046Z",
     "start_time": "2021-03-09T14:31:11.490049Z"
    }
   },
   "outputs": [
    {
     "data": {
      "text/plain": [
       "2.866515719235352e-07"
      ]
     },
     "execution_count": 35,
     "metadata": {},
     "output_type": "execute_result"
    }
   ],
   "source": [
    "norm_dist = norm(0,1).cdf #normal dist with mean 0 and sd = 1\n",
    "norm_dist(100)-norm_dist(5) #prob density between 5(5 sigma from mean) and a large number (e.g. 100)"
   ]
  },
  {
   "cell_type": "markdown",
   "metadata": {},
   "source": [
    "## Q2. \n",
    "A fever is any temperature greater than 100.4 degrees Fahrenheit. \n",
    "Given the following measurements, what is the probability that the patient \n",
    "has a fever?\n",
    "\n",
    "100.0, 99.8, 101.0, 100.5, 99.7"
   ]
  },
  {
   "cell_type": "code",
   "execution_count": 36,
   "metadata": {
    "ExecuteTime": {
     "end_time": "2021-03-09T14:31:11.508090Z",
     "start_time": "2021-03-09T14:31:11.499046Z"
    }
   },
   "outputs": [
    {
     "data": {
      "text/plain": [
       "(100.2, 0.4857983120596447)"
      ]
     },
     "execution_count": 36,
     "metadata": {},
     "output_type": "execute_result"
    }
   ],
   "source": [
    "temperatures = [100.0, 99.8, 101.0, 100.5, 99.7]\n",
    "\n",
    "mean_temp = np.mean(temperatures)\n",
    "sd_temp = np.std(temperatures)\n",
    "\n",
    "mean_temp,sd_temp"
   ]
  },
  {
   "cell_type": "code",
   "execution_count": 37,
   "metadata": {
    "ExecuteTime": {
     "end_time": "2021-03-09T14:31:11.516045Z",
     "start_time": "2021-03-09T14:31:11.509048Z"
    }
   },
   "outputs": [
    {
     "data": {
      "text/plain": [
       "0.3402820504876537"
      ]
     },
     "execution_count": 37,
     "metadata": {},
     "output_type": "execute_result"
    }
   ],
   "source": [
    "norm_fever = norm(mean_temp,sd_temp).cdf\n",
    "norm_fever(200) - norm_fever(100.4)"
   ]
  },
  {
   "cell_type": "markdown",
   "metadata": {},
   "source": [
    "## Q3. \n",
    "Suppose in Chapter 11 we tried to measure the depth of a well by timing coin drops and got the following values:\n",
    "\n",
    "2.5, 3, 3.5, 4, 2\n",
    "\n",
    "The distance an object falls can be calculated (in meters) with the following formula:\n",
    "\n",
    "distance = 1/2 × G × time²\n",
    "\n",
    "where G is 9.8 m/s/s. \n",
    "\n",
    "What is the probability that the well is over 500 \n",
    "meters deep?"
   ]
  },
  {
   "cell_type": "code",
   "execution_count": 38,
   "metadata": {
    "ExecuteTime": {
     "end_time": "2021-03-09T14:31:11.522044Z",
     "start_time": "2021-03-09T14:31:11.517046Z"
    }
   },
   "outputs": [
    {
     "data": {
      "text/plain": [
       "(3.0, 0.7071067811865476)"
      ]
     },
     "execution_count": 38,
     "metadata": {},
     "output_type": "execute_result"
    }
   ],
   "source": [
    "drop_times = [2.5, 3, 3.5, 4, 2]\n",
    "mean_drop_times = np.mean(drop_times)\n",
    "sd_drop_times = np.std(drop_times)\n",
    "mean_drop_times,sd_drop_times"
   ]
  },
  {
   "cell_type": "markdown",
   "metadata": {},
   "source": [
    "We need to solve:\n",
    "\n",
    "1/2 x G x t² =500\n",
    "\n",
    "If G is 9.8, we can work out that time (t) is about 10.10 seconds."
   ]
  },
  {
   "cell_type": "code",
   "execution_count": 39,
   "metadata": {
    "ExecuteTime": {
     "end_time": "2021-03-09T14:31:11.529047Z",
     "start_time": "2021-03-09T14:31:11.523047Z"
    }
   },
   "outputs": [
    {
     "data": {
      "text/plain": [
       "0.0"
      ]
     },
     "execution_count": 39,
     "metadata": {},
     "output_type": "execute_result"
    }
   ],
   "source": [
    "norm_drop = norm(mean_drop_times,sd_drop_times).cdf\n",
    "\n",
    "norm_drop(100)-norm_drop(10.1)"
   ]
  },
  {
   "cell_type": "markdown",
   "metadata": {},
   "source": [
    "## Q4. \n",
    "What is the probability there is no well (i.e., the well is really 0 meters \n",
    "deep)? You’ll notice that probability is higher than you might expect, given \n",
    "your observation that there is a well. There are two good explanations for \n",
    "this probability being higher than it should. The first is that the normal distribution is a poor model for our measurements; the second is that, when making up numbers for an example, I chose values that you likely wouldn’t see in real life. Which is more likely to you?"
   ]
  },
  {
   "cell_type": "code",
   "execution_count": 40,
   "metadata": {
    "ExecuteTime": {
     "end_time": "2021-03-09T14:31:11.534080Z",
     "start_time": "2021-03-09T14:31:11.530047Z"
    }
   },
   "outputs": [
    {
     "data": {
      "text/plain": [
       "1e-05"
      ]
     },
     "execution_count": 40,
     "metadata": {},
     "output_type": "execute_result"
    }
   ],
   "source": [
    "round(norm_drop(0),5)"
   ]
  },
  {
   "cell_type": "markdown",
   "metadata": {},
   "source": [
    "It’s small, but the probability that there is no well is greater than 1 \n",
    "in 100,000. But the well is right in front of you! So, even \n",
    "if the probability is small, it’s not really that close to zero. Now should \n",
    "we question the model, or should we question the data? \n",
    "\n",
    "As a Bayesian, \n",
    "generally you should favor questioning the model over the data. For \n",
    "example, movement in stock prices will typically have very high σ events \n",
    "during financial crises. This means that the normal distribution is a \n",
    "bad model for stock movements. However, in this example, there’s no \n",
    "reason to question the assumptions of the normal distribution, and in \n",
    "fact these are the original numbers that I picked for the previous chap-\n",
    "ter until my editor pointed out that the values seemed too spread out.\n",
    "One of the greatest virtues in statistical analysis is skepticism. In \n",
    "practice I have been given bad data to work with on a few occasions. \n",
    "Even though models are always imperfect, it’s very important to make \n",
    "sure that you can trust your data as well. See if the assumptions you \n",
    "have about the world hold up and, if they don’t, see if you can be con-\n",
    "vinced that you still trust your model and your data."
   ]
  },
  {
   "cell_type": "markdown",
   "metadata": {},
   "source": [
    "# Chapter 13: Tools of Parameter Estimation: The PDF, CDF, and Quantile Function\n",
    "## Q1. \n",
    "Using the code example for plotting the PDF on page 127, plot the \n",
    "CDF and quantile functions."
   ]
  },
  {
   "cell_type": "markdown",
   "metadata": {},
   "source": [
    "### CDF"
   ]
  },
  {
   "cell_type": "code",
   "execution_count": 41,
   "metadata": {
    "ExecuteTime": {
     "end_time": "2021-03-09T14:31:11.724090Z",
     "start_time": "2021-03-09T14:31:11.535045Z"
    }
   },
   "outputs": [
    {
     "data": {
      "text/plain": [
       "<AxesSubplot:>"
      ]
     },
     "execution_count": 41,
     "metadata": {},
     "output_type": "execute_result"
    },
    {
     "data": {
      "image/png": "[encoded data removed]",
      "text/plain": [
       "<Figure size 432x288 with 1 Axes>"
      ]
     },
     "metadata": {},
     "output_type": "display_data"
    }
   ],
   "source": [
    "x = np.arange(0.005,0.01,0.00001)\n",
    "beta_cdf_x = beta.cdf(x,300,40000-300)\n",
    "sns.lineplot(x=x,y=beta_cdf_x)\n"
   ]
  },
  {
   "cell_type": "markdown",
   "metadata": {},
   "source": [
    "### Quantile"
   ]
  },
  {
   "cell_type": "code",
   "execution_count": 42,
   "metadata": {
    "ExecuteTime": {
     "end_time": "2021-03-09T14:31:11.881089Z",
     "start_time": "2021-03-09T14:31:11.725049Z"
    }
   },
   "outputs": [
    {
     "data": {
      "text/plain": [
       "<AxesSubplot:>"
      ]
     },
     "execution_count": 42,
     "metadata": {},
     "output_type": "execute_result"
    },
    {
     "data": {
      "image/png": "[encoded data removed]",
      "text/plain": [
       "<Figure size 432x288 with 1 Axes>"
      ]
     },
     "metadata": {},
     "output_type": "display_data"
    }
   ],
   "source": [
    "x = np.arange(0.001,0.99,0.001)\n",
    "beta_quant_x = beta.ppf(x,300,39700)\n",
    "sns.lineplot(x=x,y=beta_quant_x)"
   ]
  },
  {
   "cell_type": "markdown",
   "metadata": {},
   "source": [
    "## Q2. \n",
    "Returning to the task of measuring snowfall from Chapter 10, say you \n",
    "have the following measurements (in inches) of snowfall: \n",
    "\n",
    "7.8, 9.4, 10.0, 7.9, 9.4, 7.0, 7.0, 7.1, 8.9, 7.4\n",
    "\n",
    "What is your 99.9 percent confidence interval for the true value of \n",
    "snowfall?"
   ]
  },
  {
   "cell_type": "code",
   "execution_count": 43,
   "metadata": {
    "ExecuteTime": {
     "end_time": "2021-03-09T14:31:11.889083Z",
     "start_time": "2021-03-09T14:31:11.882062Z"
    }
   },
   "outputs": [
    {
     "data": {
      "text/plain": [
       "(4.64767499582816, 11.732325004171877)"
      ]
     },
     "execution_count": 43,
     "metadata": {},
     "output_type": "execute_result"
    }
   ],
   "source": [
    "snowfall = [7.8, 9.4, 10.0, 7.9, 9.4, 7.0, 7.0, 7.1, 8.9, 7.4]\n",
    "mean_snowfall = np.mean(snowfall)\n",
    "sd_snowfall = np.std(snowfall)\n",
    "\n",
    "norm_snow = norm.interval(0.999,loc = mean_snowfall,scale = sd_snowfall)\n",
    "norm_snow"
   ]
  },
  {
   "cell_type": "markdown",
   "metadata": {},
   "source": [
    "## Q3. \n",
    "A child is going door to door selling candy bars. So far she has visited \n",
    "30 houses and sold 10 candy bars. She will visit 40 more houses today. \n",
    "What is the 95 percent confidence interval for how many candy bars she \n",
    "will sell the rest of the day?"
   ]
  },
  {
   "cell_type": "code",
   "execution_count": 44,
   "metadata": {
    "ExecuteTime": {
     "end_time": "2021-03-09T14:31:11.901096Z",
     "start_time": "2021-03-09T14:31:11.890047Z"
    }
   },
   "outputs": [
    {
     "data": {
      "text/plain": [
       "(0.17938364923511183, 0.50832335380999)"
      ]
     },
     "execution_count": 44,
     "metadata": {},
     "output_type": "execute_result"
    }
   ],
   "source": [
    "beta_candysold = beta.interval(0.95,10,20)\n",
    "beta_candysold #95% CI for prob of selling a candybar"
   ]
  },
  {
   "cell_type": "code",
   "execution_count": 45,
   "metadata": {
    "ExecuteTime": {
     "end_time": "2021-03-09T14:31:11.906066Z",
     "start_time": "2021-03-09T14:31:11.902048Z"
    }
   },
   "outputs": [
    {
     "name": "stdout",
     "output_type": "stream",
     "text": [
      "Lower bound: 7.175345969404473 \n",
      "Upper bound: 20.332934152399602\n"
     ]
    }
   ],
   "source": [
    "print(f\"Lower bound: {beta_candysold[0]*40} \\nUpper bound: {beta_candysold[1]*40}\")"
   ]
  },
  {
   "cell_type": "markdown",
   "metadata": {},
   "source": [
    "# Chapter 14: Parameter Estimation with Prior Probabilities\n",
    "## Q1. \n",
    "\n",
    "Suppose you’re playing air hockey with some friends and flip a coin \n",
    "to see who starts with the puck. After playing 12 times, you realize that \n",
    "the friend who brings the coin almost always seems to go first: 9 out of \n",
    "12 times. Some of your other friends start to get suspicious. Define prior \n",
    "probability distributions for the following beliefs:\n",
    "\n",
    "- One person who weakly believes that the friend is cheating and the true rate of coming up heads is closer to 70 percent.\n",
    "- One person who very strongly trusts that the coin is fair and provided a 50 percent chance of coming up heads.\n",
    "- One person who strongly believes the coin is biased to come up heads 70 percent of the time."
   ]
  },
  {
   "cell_type": "code",
   "execution_count": 46,
   "metadata": {
    "ExecuteTime": {
     "end_time": "2021-03-09T14:31:11.913059Z",
     "start_time": "2021-03-09T14:31:11.907047Z"
    }
   },
   "outputs": [],
   "source": [
    "data = beta(9,3)\n",
    "weak_70perc = beta(7,3)\n",
    "verystrong_fair = beta(100,100)\n",
    "strong_70perc = beta(70,30)"
   ]
  },
  {
   "cell_type": "markdown",
   "metadata": {},
   "source": [
    "## Q2. \n",
    "To test the coin, you flip it 20 more times and get 9 heads and 11 tails. \n",
    "Using the priors you calculated in the previous question, what are the \n",
    "updated posterior beliefs in the true rate of flipping a heads in terms of \n",
    "the 95 percent confidence interval?"
   ]
  },
  {
   "cell_type": "code",
   "execution_count": 47,
   "metadata": {
    "ExecuteTime": {
     "end_time": "2021-03-09T14:31:11.920092Z",
     "start_time": "2021-03-09T14:31:11.915046Z"
    }
   },
   "outputs": [],
   "source": [
    "data_new = beta(9+9,11+3)\n",
    "\n",
    "post_weak_70perc = beta(18+7,14+3)\n",
    "post_verystrong_fair = beta(18+100,14+100)\n",
    "post_strong_70perc = beta(18+70,14+30)"
   ]
  },
  {
   "cell_type": "code",
   "execution_count": 48,
   "metadata": {
    "ExecuteTime": {
     "end_time": "2021-03-09T14:31:11.927093Z",
     "start_time": "2021-03-09T14:31:11.921048Z"
    }
   },
   "outputs": [
    {
     "name": "stdout",
     "output_type": "stream",
     "text": [
      "(0.44504782337068916, 0.7368320053113375)\n",
      "(0.44441787655828846, 0.5726826916062475)\n",
      "(0.5843152658326919, 0.7442339112415737)\n"
     ]
    }
   ],
   "source": [
    "print(post_weak_70perc.interval(0.95))\n",
    "print(post_verystrong_fair.interval(0.95))\n",
    "print(post_strong_70perc.interval(0.95))"
   ]
  },
  {
   "cell_type": "markdown",
   "metadata": {},
   "source": [
    "# Chapter 15: From Parameter Estimation to Hypothesis Testing:  Building a Bayesian A/B Test\n",
    "\n",
    "## Q1. \n",
    "Suppose a director of marketing with many years of experience tells \n",
    "you he believes very strongly that the variant without images (B) won’t \n",
    "perform any differently than the original variant. How could you account \n",
    "for this in our model? Implement this change and see how your final \n",
    "conclusions change as well."
   ]
  },
  {
   "cell_type": "code",
   "execution_count": 49,
   "metadata": {
    "ExecuteTime": {
     "end_time": "2021-03-09T14:31:11.953126Z",
     "start_time": "2021-03-09T14:31:11.928051Z"
    }
   },
   "outputs": [],
   "source": [
    "#increase the prior (original beta(3,7))\n",
    "prior_alpha = 300\n",
    "prior_beta = 700\n",
    "n_trials = 10000\n",
    "\n",
    "var_a_samples = np.random.beta(36+prior_alpha,114+prior_beta,size=n_trials)\n",
    "var_b_samples = np.random.beta(50+prior_alpha,100+prior_beta,size=n_trials)\n",
    "p_b_superior = sum(var_b_samples>var_a_samples)/n_trials"
   ]
  },
  {
   "cell_type": "code",
   "execution_count": 50,
   "metadata": {
    "ExecuteTime": {
     "end_time": "2021-03-09T14:31:11.958047Z",
     "start_time": "2021-03-09T14:31:11.954048Z"
    }
   },
   "outputs": [
    {
     "data": {
      "text/plain": [
       "0.7403"
      ]
     },
     "execution_count": 50,
     "metadata": {},
     "output_type": "execute_result"
    }
   ],
   "source": [
    "p_b_superior #before it was 0.96"
   ]
  },
  {
   "cell_type": "markdown",
   "metadata": {},
   "source": [
    "## Q2. \n",
    "The lead designer sees your results and insists that there’s no way that \n",
    "variant B should perform better with no images. She feels that you should \n",
    "assume the conversion rate for variant B is closer to 20 percent than \n",
    "30 percent. Implement a solution for this and again review the results of \n",
    "our analysis."
   ]
  },
  {
   "cell_type": "code",
   "execution_count": 51,
   "metadata": {
    "ExecuteTime": {
     "end_time": "2021-03-09T14:31:11.983092Z",
     "start_time": "2021-03-09T14:31:11.959047Z"
    }
   },
   "outputs": [],
   "source": [
    "prior_b_alpha = 20\n",
    "prior_b_beta = 80\n",
    "prior_a_alpha = 30\n",
    "prior_a_beta = 70\n",
    "\n",
    "var_a_samples = np.random.beta(36+prior_a_alpha,114+prior_a_beta,size=n_trials)\n",
    "var_b_samples = np.random.beta(50+prior_b_alpha,100+prior_b_beta,size=n_trials)\n",
    "p_b_superior = sum(var_b_samples>var_a_samples)/n_trials"
   ]
  },
  {
   "cell_type": "code",
   "execution_count": 52,
   "metadata": {
    "ExecuteTime": {
     "end_time": "2021-03-09T14:31:12.007046Z",
     "start_time": "2021-03-09T14:31:11.984049Z"
    }
   },
   "outputs": [
    {
     "data": {
      "text/plain": [
       "6540"
      ]
     },
     "execution_count": 52,
     "metadata": {},
     "output_type": "execute_result"
    }
   ],
   "source": [
    "sum(var_b_samples>var_a_samples)"
   ]
  },
  {
   "cell_type": "code",
   "execution_count": 53,
   "metadata": {
    "ExecuteTime": {
     "end_time": "2021-03-09T14:31:12.013044Z",
     "start_time": "2021-03-09T14:31:12.008046Z"
    }
   },
   "outputs": [
    {
     "data": {
      "text/plain": [
       "0.654"
      ]
     },
     "execution_count": 53,
     "metadata": {},
     "output_type": "execute_result"
    }
   ],
   "source": [
    "p_b_superior"
   ]
  },
  {
   "cell_type": "markdown",
   "metadata": {},
   "source": [
    "## Q3. \n",
    "Assume that being 95 percent certain means that you’re more or less \n",
    "“convinced” of a hypothesis. Also assume that there’s no longer any limit \n",
    "to the number of emails you can send in your test. If the true conversion \n",
    "for A is 0.25 and for B is 0.3, explore how many samples it would take to \n",
    "convince the director of marketing that B was in fact superior. Explore \n",
    "the same for the lead designer."
   ]
  },
  {
   "cell_type": "code",
   "execution_count": 54,
   "metadata": {
    "ExecuteTime": {
     "end_time": "2021-03-09T14:31:12.019113Z",
     "start_time": "2021-03-09T14:31:12.014047Z"
    }
   },
   "outputs": [],
   "source": [
    "def draw_results(n_samples, rate):\n",
    "    results = []\n",
    "    for i in range(int(n_samples/2)):\n",
    "        draw = np.random.rand()\n",
    "        results.append(draw)\n",
    "    results = np.array(results)\n",
    "    a = sum(results <= rate)\n",
    "    b = sum(results > rate)\n",
    "    return a, b"
   ]
  },
  {
   "cell_type": "code",
   "execution_count": 55,
   "metadata": {
    "ExecuteTime": {
     "end_time": "2021-03-09T14:31:13.444097Z",
     "start_time": "2021-03-09T14:31:12.020047Z"
    },
    "scrolled": true
   },
   "outputs": [
    {
     "name": "stdout",
     "output_type": "stream",
     "text": [
      "100\n",
      "200\n",
      "300\n",
      "400\n",
      "500\n",
      "600\n",
      "700\n"
     ]
    }
   ],
   "source": [
    "#for the director of marketing\n",
    "a_true_rate = 0.25\n",
    "b_true_rate = 0.3\n",
    "\n",
    "p_b_sup = 0\n",
    "n_samples = 0\n",
    "n_trials = 100000\n",
    "while p_b_sup < 0.95:\n",
    "    n_samples += 100\n",
    "    a_samples_a, a_samples_b = draw_results(n_samples, a_true_rate)\n",
    "    b_samples_a, b_samples_b = draw_results(n_samples, b_true_rate)\n",
    "    a_samples = beta.rvs(a_samples_a + prior_alpha, a_samples_b + prior_beta, size=n_trials)\n",
    "    b_samples = beta.rvs(b_samples_a + prior_alpha, b_samples_b + prior_beta, size=n_trials)\n",
    "    p_b_sup = sum(b_samples > a_samples)/n_trials\n",
    "    print(n_samples)\n"
   ]
  },
  {
   "cell_type": "code",
   "execution_count": 56,
   "metadata": {
    "ExecuteTime": {
     "end_time": "2021-03-09T14:31:15.431447Z",
     "start_time": "2021-03-09T14:31:13.446098Z"
    }
   },
   "outputs": [
    {
     "name": "stdout",
     "output_type": "stream",
     "text": [
      "100\n",
      "200\n",
      "300\n",
      "400\n",
      "500\n",
      "600\n",
      "700\n",
      "800\n",
      "900\n",
      "1000\n"
     ]
    }
   ],
   "source": [
    "#for the director of marketing\n",
    "a_true_rate = 0.25\n",
    "b_true_rate = 0.3\n",
    "\n",
    "p_b_sup = 0\n",
    "n_samples = 0\n",
    "n_trials = 100000\n",
    "while p_b_sup < 0.95:\n",
    "    n_samples += 100\n",
    "    a_samples_a, a_samples_b = draw_results(n_samples, a_true_rate)\n",
    "    b_samples_a, b_samples_b = draw_results(n_samples, b_true_rate)\n",
    "    a_samples = beta.rvs(a_samples_a + prior_a_alpha, a_samples_b + prior_a_beta, size=n_trials)\n",
    "    b_samples = beta.rvs(b_samples_a + prior_b_alpha, b_samples_b + prior_b_beta, size=n_trials)\n",
    "    p_b_sup = sum(b_samples > a_samples)/n_trials\n",
    "    print(n_samples)"
   ]
  },
  {
   "cell_type": "markdown",
   "metadata": {},
   "source": [
    "# Chapter 16: Introduction to the Bayes Factor and Posterior Odds:  The Competition of Ideas\n",
    "\n",
    "## Q1. \n",
    "Returning to the dice problem, assume that your friend made a \n",
    "mistake and suddenly realized that there were, in fact, two loaded dice \n",
    "and only one fair die. How does this change the prior, and therefore the \n",
    "posterior odds, for our problem? Are you more willing to believe that the \n",
    "die being rolled is the loaded die?"
   ]
  },
  {
   "cell_type": "code",
   "execution_count": 57,
   "metadata": {
    "ExecuteTime": {
     "end_time": "2021-03-09T14:31:15.440493Z",
     "start_time": "2021-03-09T14:31:15.432448Z"
    }
   },
   "outputs": [
    {
     "data": {
      "text/plain": [
       "7.54"
      ]
     },
     "execution_count": 57,
     "metadata": {},
     "output_type": "execute_result"
    }
   ],
   "source": [
    "prior_odds = (2/3)/(1/3)\n",
    "posterior_odds = prior_odds*3.77\n",
    "posterior_odds"
   ]
  },
  {
   "cell_type": "markdown",
   "metadata": {},
   "source": [
    "## Q2. \n",
    "Returning to the rare diseases example, suppose you go to the doctor, \n",
    "and after having your ears cleaned you notice that your symptoms persist. \n",
    "Even worse, you have a new symptom: vertigo. The doctor proposes another possible explanation, labyrinthitis, which is a viral infection of the \n",
    "inner ear in which 98 percent of cases involve vertigo. However, hearing \n",
    "loss and tinnitus are less common in this disease; hearing loss occurs only \n",
    "30 percent of the time, and tinnitus occurs only 28 percent of the time. \n",
    "Vertigo is also a possible symptom of vestibular schwannoma, but occurs \n",
    "in only 49 percent of cases. In the general population, 35 people per million contract labyrinthitis annually. What is the posterior odds when you \n",
    "compare the hypothesis that you have labyrinthitis against the hypothesis that you have vestibular schwannoma?\n",
    "\n",
    "*Note: the official solutions have an error here. The wrong probabilities are used for the symptoms of vestibular schwannanoma. (0.64*0.55*0.49) The first two are the probabilites for the symptoms in case of earwax.*"
   ]
  },
  {
   "cell_type": "code",
   "execution_count": 58,
   "metadata": {
    "ExecuteTime": {
     "end_time": "2021-03-09T14:31:15.462481Z",
     "start_time": "2021-03-09T14:31:15.441446Z"
    }
   },
   "outputs": [
    {
     "data": {
      "text/plain": [
       "0.6851390086458019"
      ]
     },
     "execution_count": 58,
     "metadata": {},
     "output_type": "execute_result"
    }
   ],
   "source": [
    "p_lab = 35/1000000\n",
    "p_ves = 11/1000000\n",
    "\n",
    "# p_vertigo_lab = 0.98\n",
    "# p_hearingloss_lab = 0.30\n",
    "# p_tinnitus_lab = 0.28\n",
    "# p_vertigo_ves = 0.49\n",
    "# p_hearingloss_ves = 0.94\n",
    "# p_tinnitus_ves = 0.83\n",
    "\n",
    "p_symptoms_lab = 0.98*0.30*0.28\n",
    "p_symptoms_ves = 0.49*0.94*0.83\n",
    "\n",
    "\n",
    "prior_odds = p_symptoms_lab/p_symptoms_ves\n",
    "posterior_odds = prior_odds*(p_lab/p_ves)\n",
    "posterior_odds"
   ]
  },
  {
   "cell_type": "markdown",
   "metadata": {},
   "source": [
    "# Chapter 17: Bayesian Reasoning in the Twilight Zone\n",
    "## Q1. \n",
    "Every time you and your friend get together to watch movies, you flip \n",
    "a coin to determine who gets to choose the movie. Your friend always \n",
    "picks heads, and every Friday for 10 weeks, the coin lands on heads. You \n",
    "develop a hypothesis that the coin has two heads sides, rather than both \n",
    "a heads side and a tails side. Set up a Bayes factor for the hypothesis that \n",
    "the coin is a trick coin over the hypothesis that the coin is fair. What does \n",
    "this ratio alone suggest about whether or not your friend is cheating you?"
   ]
  },
  {
   "cell_type": "code",
   "execution_count": 59,
   "metadata": {
    "ExecuteTime": {
     "end_time": "2021-03-09T14:31:15.470447Z",
     "start_time": "2021-03-09T14:31:15.464449Z"
    }
   },
   "outputs": [
    {
     "data": {
      "text/plain": [
       "1024.0"
      ]
     },
     "execution_count": 59,
     "metadata": {},
     "output_type": "execute_result"
    }
   ],
   "source": [
    "H_2heads = 1\n",
    "H_headstails = 0.5**10\n",
    "bayes_factor = H_2heads/H_headstails\n",
    "bayes_factor"
   ]
  },
  {
   "cell_type": "markdown",
   "metadata": {},
   "source": [
    "Already looks like there is a high probability that the friend is cheating."
   ]
  },
  {
   "cell_type": "markdown",
   "metadata": {},
   "source": [
    "## Q2. \n",
    "Now imagine three cases: that your friend is a bit of a prankster, that \n",
    "your friend is honest most of the time but can occasionally be sneaky, and \n",
    "that your friend is very trustworthy. In each case, estimate some prior \n",
    "odds ratios for your hypothesis and compute the posterior odds."
   ]
  },
  {
   "cell_type": "code",
   "execution_count": 60,
   "metadata": {
    "ExecuteTime": {
     "end_time": "2021-03-09T14:31:15.478447Z",
     "start_time": "2021-03-09T14:31:15.472447Z"
    }
   },
   "outputs": [
    {
     "name": "stdout",
     "output_type": "stream",
     "text": [
      "Prankster Posterior: 5120.0\n",
      "Mostly Honest Posterior: 102.4\n",
      "Trustworthy Posterior: 1.024\n"
     ]
    }
   ],
   "source": [
    "prior_prankster = 5/1\n",
    "prior_mostlyhonest = 1/10\n",
    "prior_trustworthy = 1/1000\n",
    "\n",
    "print(f\"Prankster Posterior: {prior_prankster*bayes_factor}\")\n",
    "print(f\"Mostly Honest Posterior: {prior_mostlyhonest*bayes_factor}\")\n",
    "print(f\"Trustworthy Posterior: {prior_trustworthy*bayes_factor}\")"
   ]
  },
  {
   "cell_type": "markdown",
   "metadata": {},
   "source": [
    "## Q3. \n",
    "Suppose you trust this friend deeply. Make the prior odds of them \n",
    "cheating 1/10,000. \n",
    "How many times would the coin have to land on heads \n",
    "before you feel unsure about their innocence say, a posterior odds of 1?"
   ]
  },
  {
   "cell_type": "code",
   "execution_count": 61,
   "metadata": {
    "ExecuteTime": {
     "end_time": "2021-03-09T14:31:15.489450Z",
     "start_time": "2021-03-09T14:31:15.481453Z"
    }
   },
   "outputs": [
    {
     "data": {
      "text/plain": [
       "14.0"
      ]
     },
     "execution_count": 61,
     "metadata": {},
     "output_type": "execute_result"
    }
   ],
   "source": [
    "prior_trustworthy = 1/10000\n",
    "\n",
    "#solve for 1 = prior_trustworthy*1/0.5**x\n",
    "x = 4*(np.log(2)+np.log(5))/np.log(2)\n",
    "np.ceil(x)"
   ]
  },
  {
   "cell_type": "code",
   "execution_count": 62,
   "metadata": {
    "ExecuteTime": {
     "end_time": "2021-03-09T14:31:15.494453Z",
     "start_time": "2021-03-09T14:31:15.490451Z"
    }
   },
   "outputs": [
    {
     "data": {
      "text/plain": [
       "1.6384"
      ]
     },
     "execution_count": 62,
     "metadata": {},
     "output_type": "execute_result"
    }
   ],
   "source": [
    "bayes_factor = 1/(0.5**14)\n",
    "prior_trustworthy*bayes_factor"
   ]
  },
  {
   "cell_type": "markdown",
   "metadata": {},
   "source": [
    "## Q4. \n",
    "Another friend of yours also hangs out with this same friend and, \n",
    "after only four weeks of the coin landing on heads, feels certain you’re \n",
    "both being cheated. This confidence implies a posterior odds of about \n",
    "100\\. What value would you assign to this other friend’s prior belief that \n",
    "the first friend is a cheater?"
   ]
  },
  {
   "cell_type": "code",
   "execution_count": 63,
   "metadata": {
    "ExecuteTime": {
     "end_time": "2021-03-09T14:31:15.502495Z",
     "start_time": "2021-03-09T14:31:15.496446Z"
    }
   },
   "outputs": [
    {
     "data": {
      "text/plain": [
       "6.25"
      ]
     },
     "execution_count": 63,
     "metadata": {},
     "output_type": "execute_result"
    }
   ],
   "source": [
    "bayes_factor = 1/0.5**4\n",
    "posterior_odds = 100\n",
    "\n",
    "prior_friend = posterior_odds/bayes_factor\n",
    "prior_friend"
   ]
  },
  {
   "cell_type": "markdown",
   "metadata": {},
   "source": [
    "# Chapter 18: When Data Doesn’t Convince You\n",
    "## Q1. \n",
    "When two hypotheses explain the data equally well, one way to change \n",
    "our minds is to see if we can attack the prior probability. What are some \n",
    "factors that might increase your prior belief in your friend’s psychic \n",
    "powers?"
   ]
  },
  {
   "cell_type": "markdown",
   "metadata": {},
   "source": [
    "**Answer: This is of course very subjective. I am very skeptic so it might take a lot more for me than you. I would require a stronger prove of the predictive abilities that go beyond the normal dice. I would want to see predictions of other numbers that are not as finite, not easy to fake or estimate. Such as the last 3 numbers of the ISBN of a chosen book from my shelves.**"
   ]
  },
  {
   "cell_type": "markdown",
   "metadata": {},
   "source": [
    "## Q2. \n",
    "An experiment claims that when people hear the word Florida, they \n",
    "think of the elderly and this has an impact on their walking speed. To test \n",
    "this, we have two groups of 15 students walk across a room; one group \n",
    "hears the word Florida and one does not. Assume H1 = the groups don’t \n",
    "move at different speeds, and H2 = the Florida group is slower because of \n",
    "hearing the word Florida. \n",
    "Also assume: \n",
    "\n",
    "BF = P(D|H2)/P(D|H1)\n",
    "\n",
    "The experiment shows that H2 has a Bayes factor of 19. Suppose \n",
    "someone is unconvinced by this experiment because H2 had a lower prior \n",
    "odds. What prior odds would explain someone being unconvinced and \n",
    "what would the BF need to be to bring the posterior odds to 50 for this \n",
    "unconvinced person?"
   ]
  },
  {
   "cell_type": "markdown",
   "metadata": {},
   "source": [
    "**Answer: We could be unconvinced and show this through a prior of 1/19 which cancels the BF.**"
   ]
  },
  {
   "cell_type": "code",
   "execution_count": 64,
   "metadata": {
    "ExecuteTime": {
     "end_time": "2021-03-09T14:31:15.508448Z",
     "start_time": "2021-03-09T14:31:15.503450Z"
    }
   },
   "outputs": [
    {
     "data": {
      "text/plain": [
       "950.0"
      ]
     },
     "execution_count": 64,
     "metadata": {},
     "output_type": "execute_result"
    }
   ],
   "source": [
    "prior_florida = 1/19\n",
    "BF_new = 50/prior_florida\n",
    "BF_new"
   ]
  },
  {
   "cell_type": "markdown",
   "metadata": {},
   "source": [
    "Now suppose the prior odds do not change the skeptic’s mind. Think \n",
    "of an alternate H3 that explains the observation that the Florida group is \n",
    "slower. Remember if H2 and H3 both explain the data equally well, only \n",
    "prior odds in favor of H3 would lead someone to claim H3 is true over H2, \n",
    "so we need to rethink the experiment so that these odds are decreased. \n",
    "Come up with an experiment that could change the prior odds in H3 \n",
    "over H2."
   ]
  },
  {
   "cell_type": "markdown",
   "metadata": {},
   "source": [
    "**Answer: As the groups and the whole sample are very small we can't rule out chance as much as we would need to convince a skeptic. The experiment would therefore need to be reproduced many times, ideally with larger sample sizes.**"
   ]
  },
  {
   "cell_type": "markdown",
   "metadata": {},
   "source": [
    "# Chapter 19: From Hypothesis Testing to Parameter Estimation\n",
    "## Q1. \n",
    "Our Bayes factor assumed that we were looking at H1: P(prize) = 0.5. \n",
    "This allowed us to derive a version of the beta distribution with an alpha \n",
    "of 1 and a beta of 1. Would it matter if we chose a different probability \n",
    "for H1 ? Assume H1: P(prize) = 0.24 , then see if the resulting distribution, \n",
    "once normalized to sum to 1, is any different than the original hypothesis."
   ]
  },
  {
   "cell_type": "code",
   "execution_count": 65,
   "metadata": {
    "ExecuteTime": {
     "end_time": "2021-03-09T14:31:15.513484Z",
     "start_time": "2021-03-09T14:31:15.509454Z"
    }
   },
   "outputs": [],
   "source": [
    "def bayes_factor(h_top,h_bottom):\n",
    "    return ((h_top**24)*(1-h_top)**76)/((h_bottom**24)*(1-h_bottom)**76)"
   ]
  },
  {
   "cell_type": "code",
   "execution_count": 66,
   "metadata": {
    "ExecuteTime": {
     "end_time": "2021-03-09T14:31:15.519470Z",
     "start_time": "2021-03-09T14:31:15.515448Z"
    }
   },
   "outputs": [],
   "source": [
    "dx = 0.01\n",
    "hypotheses = np.arange(0,1,0.01)\n",
    "\n",
    "bf_v1 = bayes_factor(hypotheses,0.5)\n",
    "bf_v2 = bayes_factor(hypotheses,0.24)"
   ]
  },
  {
   "cell_type": "code",
   "execution_count": 67,
   "metadata": {
    "ExecuteTime": {
     "end_time": "2021-03-09T14:31:15.761498Z",
     "start_time": "2021-03-09T14:31:15.520477Z"
    }
   },
   "outputs": [
    {
     "data": {
      "text/plain": [
       "<AxesSubplot:title={'center':'Alternative Hypothesis'}>"
      ]
     },
     "execution_count": 67,
     "metadata": {},
     "output_type": "execute_result"
    },
    {
     "data": {
      "image/png": "[encoded data removed]",
      "text/plain": [
       "<Figure size 720x360 with 2 Axes>"
      ]
     },
     "metadata": {},
     "output_type": "display_data"
    }
   ],
   "source": [
    "fig, axes = plt.subplots(1, 2, sharex=True, figsize=(10,5))\n",
    "axes[0].set_title(\"Original Hypothesis\")\n",
    "axes[1].set_title(\"Alternative Hypothesis\")\n",
    "sns.lineplot(ax = axes[0],x=hypotheses,y=bf_v1/sum(bf_v1))\n",
    "sns.lineplot(ax=axes[1],x=hypotheses,y=bf_v2/sum(bf_v2), color =\"#004225\")"
   ]
  },
  {
   "cell_type": "markdown",
   "metadata": {},
   "source": [
    "## Q2. \n",
    "Write a prior for the distribution in which each hypothesis is 1.05 \n",
    "times more likely than the previous hypothesis (assume our dx remains \n",
    "the same)."
   ]
  },
  {
   "cell_type": "code",
   "execution_count": 68,
   "metadata": {
    "ExecuteTime": {
     "end_time": "2021-03-09T14:31:15.772491Z",
     "start_time": "2021-03-09T14:31:15.768490Z"
    }
   },
   "outputs": [],
   "source": [
    "bfs = bayes_factor(hypotheses,0.5)\n",
    "priors = np.cumprod(np.append(np.array([1]),np.repeat(1.05,len(bfs)-1)))\n",
    "p_posteriors = (bfs * priors)/sum(bfs*priors)"
   ]
  },
  {
   "cell_type": "code",
   "execution_count": 69,
   "metadata": {
    "ExecuteTime": {
     "end_time": "2021-03-09T14:31:15.918497Z",
     "start_time": "2021-03-09T14:31:15.780464Z"
    }
   },
   "outputs": [
    {
     "data": {
      "text/plain": [
       "<AxesSubplot:>"
      ]
     },
     "execution_count": 69,
     "metadata": {},
     "output_type": "execute_result"
    },
    {
     "data": {
      "image/png": "[encoded data removed]",
      "text/plain": [
       "<Figure size 432x288 with 1 Axes>"
      ]
     },
     "metadata": {},
     "output_type": "display_data"
    }
   ],
   "source": [
    "sns.lineplot(x=hypotheses,y=p_posteriors)"
   ]
  },
  {
   "cell_type": "markdown",
   "metadata": {},
   "source": [
    "## Q3. \n",
    "Suppose you observed another duck game that included 34 ducks \n",
    "with prizes and 66 ducks without prizes. How would you set up a test \n",
    "to determine “What is the probability that you have a better chance of \n",
    "winning a prize in this game than in the game we used in our example?” "
   ]
  },
  {
   "cell_type": "code",
   "execution_count": 70,
   "metadata": {
    "ExecuteTime": {
     "end_time": "2021-03-09T14:31:15.922505Z",
     "start_time": "2021-03-09T14:31:15.919461Z"
    }
   },
   "outputs": [],
   "source": [
    "#to be implemented"
   ]
  }
 ],
 "metadata": {
  "kernelspec": {
   "display_name": "Python 3",
   "language": "python",
   "name": "python3"
  },
  "language_info": {
   "codemirror_mode": {
    "name": "ipython",
    "version": 3
   },
   "file_extension": ".py",
   "mimetype": "text/x-python",
   "name": "python",
   "nbconvert_exporter": "python",
   "pygments_lexer": "ipython3",
   "version": "3.7.6"
  },
  "toc": {
   "base_numbering": 1,
   "nav_menu": {},
   "number_sections": true,
   "sideBar": true,
   "skip_h1_title": false,
   "title_cell": "Table of Contents",
   "title_sidebar": "Contents",
   "toc_cell": false,
   "toc_position": {},
   "toc_section_display": true,
   "toc_window_display": false
  },
  "varInspector": {
   "cols": {
    "lenName": 16,
    "lenType": 16,
    "lenVar": 40
   },
   "kernels_config": {
    "python": {
     "delete_cmd_postfix": "",
     "delete_cmd_prefix": "del ",
     "library": "var_list.py",
     "varRefreshCmd": "print(var_dic_list())"
    },
    "r": {
     "delete_cmd_postfix": ") ",
     "delete_cmd_prefix": "rm(",
     "library": "var_list.r",
     "varRefreshCmd": "cat(var_dic_list()) "
    }
   },
   "oldHeight": 437.4,
   "position": {
    "height": "459.391px",
    "left": "1536px",
    "right": "20px",
    "top": "50px",
    "width": "350px"
   },
   "types_to_exclude": [
    "module",
    "function",
    "builtin_function_or_method",
    "instance",
    "_Feature"
   ],
   "varInspector_section_display": "block",
   "window_display": false
  }
 },
 "nbformat": 4,
 "nbformat_minor": 4
}
