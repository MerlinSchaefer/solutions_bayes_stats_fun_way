{
 "cells": [
  {
   "cell_type": "code",
   "execution_count": 1,
   "metadata": {},
   "outputs": [],
   "source": [
    "import itertools\n",
    "from scipy.stats import beta, binom"
   ]
  },
  {
   "cell_type": "code",
   "execution_count": 19,
   "metadata": {},
   "outputs": [],
   "source": [
    "def choose(n, k):\n",
    "    \"\"\"\n",
    "    A fast way to calculate binomial coefficients by Andrew Dalke (contrib).\n",
    "    \"\"\"\n",
    "    if 0 <= k <= n:\n",
    "        ntok = 1\n",
    "        ktok = 1\n",
    "        for t in range(1, min(k, n - k) + 1):\n",
    "            ntok *= n\n",
    "            ktok *= t\n",
    "            n -= 1\n",
    "        return ntok // ktok\n",
    "    else:\n",
    "        return 0"
   ]
  },
  {
   "cell_type": "markdown",
   "metadata": {},
   "source": [
    "# Chapter 1: "
   ]
  },
  {
   "cell_type": "markdown",
   "metadata": {},
   "source": [
    "# Chapter 2: \n",
    "\n",
    "## Q1.\n",
    "What is the probability of rolling two six-sided dice and getting a \n",
    "value greater than 7?"
   ]
  },
  {
   "cell_type": "code",
   "execution_count": 2,
   "metadata": {},
   "outputs": [
    {
     "data": {
      "text/plain": [
       "[(1, 1),\n",
       " (1, 2),\n",
       " (1, 3),\n",
       " (1, 4),\n",
       " (1, 5),\n",
       " (1, 6),\n",
       " (2, 1),\n",
       " (2, 2),\n",
       " (2, 3),\n",
       " (2, 4),\n",
       " (2, 5),\n",
       " (2, 6),\n",
       " (3, 1),\n",
       " (3, 2),\n",
       " (3, 3),\n",
       " (3, 4),\n",
       " (3, 5),\n",
       " (3, 6),\n",
       " (4, 1),\n",
       " (4, 2),\n",
       " (4, 3),\n",
       " (4, 4),\n",
       " (4, 5),\n",
       " (4, 6),\n",
       " (5, 1),\n",
       " (5, 2),\n",
       " (5, 3),\n",
       " (5, 4),\n",
       " (5, 5),\n",
       " (5, 6),\n",
       " (6, 1),\n",
       " (6, 2),\n",
       " (6, 3),\n",
       " (6, 4),\n",
       " (6, 5),\n",
       " (6, 6)]"
      ]
     },
     "execution_count": 2,
     "metadata": {},
     "output_type": "execute_result"
    }
   ],
   "source": [
    "combinations = list(itertools.product(range(1,7),range(1,7)))\n",
    "combinations"
   ]
  },
  {
   "cell_type": "code",
   "execution_count": 3,
   "metadata": {},
   "outputs": [],
   "source": [
    "greater_7 = [sum(i) for i in combinations if sum(i) > 7]"
   ]
  },
  {
   "cell_type": "code",
   "execution_count": 4,
   "metadata": {},
   "outputs": [
    {
     "name": "stdout",
     "output_type": "stream",
     "text": [
      "Number of pairs with values greater than 7:  15\n",
      "Total number of pairs: 36\n",
      "P(>7)=0.42\n"
     ]
    }
   ],
   "source": [
    "print(f\"Number of pairs with values greater than 7:  {len(greater_7)}\")\n",
    "print(f\"Total number of pairs: {len(combinations)}\")\n",
    "print(f\"P(>7)={round(len(greater_7)/len(combinations),2)}\")"
   ]
  },
  {
   "cell_type": "markdown",
   "metadata": {},
   "source": [
    "## Q2.\n",
    "What is the probability of rolling three six-sided dice and getting a \n",
    "value greater than 7?"
   ]
  },
  {
   "cell_type": "code",
   "execution_count": 6,
   "metadata": {},
   "outputs": [],
   "source": [
    "combinations_3dice = list(itertools.product(range(1,7),range(1,7),range(1,7)))\n",
    "greater_7_3dice = [sum(i) for i in combinations_3dice if sum(i) > 7]"
   ]
  },
  {
   "cell_type": "code",
   "execution_count": 7,
   "metadata": {},
   "outputs": [
    {
     "name": "stdout",
     "output_type": "stream",
     "text": [
      "Number of pairs with values greater than 7:  181\n",
      "Total number of pairs: 216\n",
      "P(>7)=0.84\n"
     ]
    }
   ],
   "source": [
    "print(f\"Number of pairs with values greater than 7:  {len(greater_7_3dice)}\")\n",
    "print(f\"Total number of pairs: {len(combinations_3dice)}\")\n",
    "print(f\"P(>7)={round(len(greater_7_3dice)/len(combinations_3dice),2)}\")"
   ]
  },
  {
   "cell_type": "markdown",
   "metadata": {},
   "source": [
    "## Q3.\n",
    "The Yankees are playing the Red Sox. You’re a diehard Sox fan and \n",
    "bet your friend they’ll win the game. You’ll pay your friend 30 dollars if the Sox \n",
    "lose and your friend will have to pay you only 5 dollars if the Sox win. What is \n",
    "the probability you have intuitively assigned to the belief that the Red Sox \n",
    "will win?"
   ]
  },
  {
   "cell_type": "code",
   "execution_count": 8,
   "metadata": {},
   "outputs": [
    {
     "data": {
      "text/plain": [
       "0.86"
      ]
     },
     "execution_count": 8,
     "metadata": {},
     "output_type": "execute_result"
    }
   ],
   "source": [
    "odds_RSwin = 30/5\n",
    "prob_RSwin = odds_RSwin/(1+odds_RSwin)\n",
    "round(prob_RSwin,2)"
   ]
  },
  {
   "cell_type": "markdown",
   "metadata": {},
   "source": [
    "# Chapter 3: The Logic of Uncertainty\n",
    "## Q1. \n",
    "What is the probability of rolling a 20 three times in a row on a \n",
    "20-sided die?"
   ]
  },
  {
   "cell_type": "code",
   "execution_count": 9,
   "metadata": {},
   "outputs": [
    {
     "data": {
      "text/plain": [
       "0.00012500000000000003"
      ]
     },
     "execution_count": 9,
     "metadata": {},
     "output_type": "execute_result"
    }
   ],
   "source": [
    "(1/20)**3 # or (1/20)*(1/20)*(1/20)"
   ]
  },
  {
   "cell_type": "markdown",
   "metadata": {},
   "source": [
    "## Q2. \n",
    "The weather report says there’s a 10 percent chance of rain tomorrow, \n",
    "and you forget your umbrella half the time you go out. What is the probability that you’ll be caught in the rain without an umbrella tomorrow?"
   ]
  },
  {
   "cell_type": "code",
   "execution_count": 10,
   "metadata": {},
   "outputs": [
    {
     "data": {
      "text/plain": [
       "0.05"
      ]
     },
     "execution_count": 10,
     "metadata": {},
     "output_type": "execute_result"
    }
   ],
   "source": [
    "p_rain = 0.1\n",
    "p_umbrella = 0.5\n",
    "p_rain*p_umbrella"
   ]
  },
  {
   "cell_type": "markdown",
   "metadata": {},
   "source": [
    "## Q3. \n",
    "Raw eggs have a 1/20,000 probability of having salmonella. If you eat \n",
    "two raw eggs, what is the probability you ate a raw egg with salmonella?"
   ]
  },
  {
   "cell_type": "code",
   "execution_count": 11,
   "metadata": {},
   "outputs": [
    {
     "data": {
      "text/plain": [
       "0.0001"
      ]
     },
     "execution_count": 11,
     "metadata": {},
     "output_type": "execute_result"
    }
   ],
   "source": [
    "1/20000 + 1/20000 #given that they are independent"
   ]
  },
  {
   "cell_type": "code",
   "execution_count": 12,
   "metadata": {},
   "outputs": [
    {
     "data": {
      "text/plain": [
       "0.0001"
      ]
     },
     "execution_count": 12,
     "metadata": {},
     "output_type": "execute_result"
    }
   ],
   "source": [
    "round(1/20000 + 1/20000 - 1/20000 * (1/20000),5) #more formally correct"
   ]
  },
  {
   "cell_type": "markdown",
   "metadata": {},
   "source": [
    "## Q4. \n",
    "What is the probability of either flipping two heads in two coin tosses \n",
    "or rolling three 6s in three six-sided dice rolls?"
   ]
  },
  {
   "cell_type": "code",
   "execution_count": 13,
   "metadata": {},
   "outputs": [
    {
     "data": {
      "text/plain": [
       "0.25"
      ]
     },
     "execution_count": 13,
     "metadata": {},
     "output_type": "execute_result"
    }
   ],
   "source": [
    "p_two_heads = 0.5 * 0.5\n",
    "p_three_six = (1/6)*(1/6)*(1/6)\n",
    "p_either_event = p_two_heads + p_three_six\n",
    "round(p_either_event,2)"
   ]
  },
  {
   "cell_type": "markdown",
   "metadata": {},
   "source": [
    "# Chapter 4: Creating a Binomial Probability Distribution\n",
    "## Q1. \n",
    "What are the parameters of the binomial distribution for the probability of rolling either a 1 or a 20 on a 20-sided die, if we roll the die \n",
    "12 times?"
   ]
  },
  {
   "cell_type": "code",
   "execution_count": 14,
   "metadata": {},
   "outputs": [],
   "source": [
    "p = 1/20 + 1/20 #prob of either 1 or 20\n",
    "k = 1 #looking for event to occur once\n",
    "n = 12 # 12 trials"
   ]
  },
  {
   "cell_type": "markdown",
   "metadata": {},
   "source": [
    "## Q2. \n",
    "There are four aces in a deck of 52 cards. If you pull a card, return \n",
    "the card, then reshuffle and pull a card again, how many ways can you pull \n",
    "just one ace in five pulls?"
   ]
  },
  {
   "cell_type": "code",
   "execution_count": 20,
   "metadata": {},
   "outputs": [
    {
     "data": {
      "text/plain": [
       "5"
      ]
     },
     "execution_count": 20,
     "metadata": {},
     "output_type": "execute_result"
    }
   ],
   "source": [
    "choose(5,1)"
   ]
  },
  {
   "cell_type": "markdown",
   "metadata": {},
   "source": [
    "## Q3. \n",
    "For the example in question 2, what is the probability of pulling five \n",
    "aces in 10 pulls (remember the card is shuffled back in the deck when it is \n",
    "pulled)?"
   ]
  },
  {
   "cell_type": "code",
   "execution_count": 33,
   "metadata": {},
   "outputs": [
    {
     "data": {
      "text/plain": [
       "0.0004548552879040868"
      ]
     },
     "execution_count": 33,
     "metadata": {},
     "output_type": "execute_result"
    }
   ],
   "source": [
    "k = 5\n",
    "n = 10\n",
    "p = 4/52\n",
    "binom.pmf(k,n,p)"
   ]
  },
  {
   "cell_type": "code",
   "execution_count": null,
   "metadata": {},
   "outputs": [],
   "source": []
  },
  {
   "cell_type": "code",
   "execution_count": null,
   "metadata": {},
   "outputs": [],
   "source": []
  },
  {
   "cell_type": "markdown",
   "metadata": {},
   "source": [
    "# Chapter 5: The Beta Distribution\n",
    "## Q1. \n",
    "You want to use the beta distribution to determine whether or not a\n",
    "coin you have is a fair coin—meaning that the coin gives you heads and\n",
    "tails equally. You flip the coin 10 times and get 4 heads and 6 tails. Using\n",
    "the beta distribution, what is the probability that the coin will land on\n",
    "heads more than 60 percent of the time?"
   ]
  },
  {
   "cell_type": "code",
   "execution_count": null,
   "metadata": {},
   "outputs": [],
   "source": [
    "betacdf = beta(4,6).cdf\n",
    "\n",
    "betacdf(1.0) - betacdf(0.6)"
   ]
  },
  {
   "cell_type": "markdown",
   "metadata": {},
   "source": [
    "## Q2. \n",
    "You flip the coin 10 more times and now have 9 heads and 11 tails\n",
    "total. What is the probability that the coin is fair, using our definition of\n",
    "fair, give or take 5 percent?"
   ]
  },
  {
   "cell_type": "code",
   "execution_count": null,
   "metadata": {},
   "outputs": [],
   "source": [
    "betacdf = beta(9,11).cdf\n",
    "\n",
    "betacdf(0.55) - betacdf(0.45)"
   ]
  },
  {
   "cell_type": "markdown",
   "metadata": {},
   "source": [
    "## Q3. \n",
    "Data is the best way to become more confident in your assertions. You\n",
    "flip the coin 200 more times and end up with 109 heads and 111 tails. Now\n",
    "what is the probability that the coin is fair, give or take 5 percent?"
   ]
  },
  {
   "cell_type": "code",
   "execution_count": null,
   "metadata": {},
   "outputs": [],
   "source": [
    "betacdf = beta(109,111).cdf\n",
    "\n",
    "betacdf(0.55) - betacdf(0.45)"
   ]
  },
  {
   "cell_type": "markdown",
   "metadata": {},
   "source": [
    "# Chapter 6: Conditional Probability\n",
    "## Q1. \n",
    "What piece of information would we need in order to use Bayes’\n",
    "theorem to determine the probability that someone in 2010 who had GBS\n",
    "also had the flu vaccine that year?"
   ]
  },
  {
   "attachments": {
    "image.png": {
     "image/png": "[encoded data removed]"
    }
   },
   "cell_type": "markdown",
   "metadata": {},
   "source": [
    "![image.png](attachment:image.png)"
   ]
  },
  {
   "cell_type": "markdown",
   "metadata": {},
   "source": [
    "## Q2. \n",
    "What is the probability that a random person picked from the\n",
    "population is female and is not color blind?"
   ]
  },
  {
   "cell_type": "code",
   "execution_count": null,
   "metadata": {},
   "outputs": [],
   "source": [
    "p_female = 0.5\n",
    "p_colorblind_given_f = 0.005\n",
    "p_notcolorblind_female = p_female*(1-p_colorblind_given_f)\n",
    "p_notcolorblind_female"
   ]
  },
  {
   "cell_type": "markdown",
   "metadata": {},
   "source": [
    "## Q3. \n",
    "What is the probability that a male who received the flu vaccine in\n",
    "2010 is either color blind or has GBS?"
   ]
  },
  {
   "cell_type": "code",
   "execution_count": null,
   "metadata": {},
   "outputs": [],
   "source": [
    "p_GBS_given_fvac = 3/100000\n",
    "p_colorblind_given_m = 0.08\n",
    "p_male = 0.5\n",
    "p_male_and_colorblind = p_colorblind_given_m * p_male #gives 0.04 not 0.004 as described in book solutions.\n",
    "\n",
    "p_male_and_colorblind + p_GBS_given_fvac - p_male_and_colorblind * p_GBS_given_fvac"
   ]
  },
  {
   "cell_type": "code",
   "execution_count": null,
   "metadata": {},
   "outputs": [],
   "source": []
  }
 ],
 "metadata": {
  "kernelspec": {
   "display_name": "Python 3",
   "language": "python",
   "name": "python3"
  },
  "language_info": {
   "codemirror_mode": {
    "name": "ipython",
    "version": 3
   },
   "file_extension": ".py",
   "mimetype": "text/x-python",
   "name": "python",
   "nbconvert_exporter": "python",
   "pygments_lexer": "ipython3",
   "version": "3.7.6"
  }
 },
 "nbformat": 4,
 "nbformat_minor": 4
}
